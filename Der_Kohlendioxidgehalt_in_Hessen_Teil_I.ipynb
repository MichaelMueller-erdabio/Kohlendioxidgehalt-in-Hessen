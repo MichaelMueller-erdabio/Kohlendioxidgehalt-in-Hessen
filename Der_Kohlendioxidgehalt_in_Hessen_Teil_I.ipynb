{
 "cells": [
  {
   "cell_type": "markdown",
   "metadata": {
    "id": "WL6U_HjV6rHW"
   },
   "source": [
    "# Der Kohlendioxidgehalt in Hessen Teil 1\n",
    "\n",
    "Die Rohdaten stellen uns vor folgenden Aufgaben:\n",
    "1. Den Datentyp müssen wir von Objekt in Zahlen umwandeln.\n",
    "2. Die Datumspalte und Zeitspalte in ein Datumsformat bringen (\"%d-%m-%y %H:%M\")."
   ]
  },
  {
   "cell_type": "markdown",
   "metadata": {
    "id": "RWAjO4pf07vx"
   },
   "source": [
    "Pandas ist ein Framework.  Hauptbestandteil ist die Klasse DataFrame, mit der sich zweidimensionale Tabellen, die aus Zeilen und Spalten bestehen, aufbereiten und umarbeiten lassen.\n",
    "\n",
    "Wir laden die pandas Bibliothek und kürzen sie mit pd ab.\n",
    "\n",
    "\n"
   ]
  },
  {
   "cell_type": "code",
   "execution_count": 1,
   "metadata": {
    "id": "MByLRqvZ0LWS"
   },
   "outputs": [],
   "source": [
    "import pandas as pd"
   ]
  },
  {
   "cell_type": "markdown",
   "metadata": {
    "id": "7fXP5_xt2CTX"
   },
   "source": [
    "Die Datei *messwerte.txt*  liefert uns Hinweise, wie wir die Datei in Python laden.\n",
    "\n",
    "**Dezimaltrennzeichen**\n",
    "\n",
    "Deutschland verwendet ein Komma (,) als **Dezimaltrennzeichen**.\n",
    "\n",
    "**Feldtrennzeichen** \n",
    "\n",
    "Die meisten europäischen Länder, trennen mit ';'' anstatt ',' und das Dezimaltrennzeichen ist ',' statt '.'\n",
    " \n",
    "Die Messdaten einlesen (pd.read_csv) und die Zellen mit ';' trennen. Dezimaltrennzeichen ',' ( sep=';' , decimal=',').\n"
   ]
  },
  {
   "cell_type": "markdown",
   "metadata": {
    "id": "B14MCz8rTMdm"
   },
   "source": [
    "Datum;Zeit;Kohlendioxid (CO2)[mg/m³];Temperatur[°C];Luftdruck[hPa]\n",
    "\n",
    "01.12.2019;01:00;867;-3,5;1023\n",
    "\n",
    "01.12.2019;02:00;885;-3,6;1023\n",
    "\n"
   ]
  },
  {
   "cell_type": "code",
   "execution_count": 2,
   "metadata": {
    "id": "-m3A3Vu606oZ"
   },
   "outputs": [],
   "source": [
    "df= pd.read_csv('daten/messwerteb.txt', sep=';' ,decimal=',')"
   ]
  },
  {
   "cell_type": "markdown",
   "metadata": {
    "id": "9OPIaeAG-p97"
   },
   "source": [
    "Mit der head-Methode erhalten wir eine Übersicht über die ersten fünf Zeilen. "
   ]
  },
  {
   "cell_type": "code",
   "execution_count": 3,
   "metadata": {
    "colab": {
     "base_uri": "https://localhost:8080/",
     "height": 206
    },
    "id": "jb6GGsJI06rf",
    "outputId": "627648f4-ce21-4c44-db63-449716d547bf"
   },
   "outputs": [
    {
     "data": {
      "text/html": [
       "<div>\n",
       "<style scoped>\n",
       "    .dataframe tbody tr th:only-of-type {\n",
       "        vertical-align: middle;\n",
       "    }\n",
       "\n",
       "    .dataframe tbody tr th {\n",
       "        vertical-align: top;\n",
       "    }\n",
       "\n",
       "    .dataframe thead th {\n",
       "        text-align: right;\n",
       "    }\n",
       "</style>\n",
       "<table border=\"1\" class=\"dataframe\">\n",
       "  <thead>\n",
       "    <tr style=\"text-align: right;\">\n",
       "      <th></th>\n",
       "      <th>Datum</th>\n",
       "      <th>Zeit</th>\n",
       "      <th>Kohlendioxid (CO2)[mg/m³]</th>\n",
       "      <th>Temperatur[°C]</th>\n",
       "      <th>Luftdruck[hPa]</th>\n",
       "    </tr>\n",
       "  </thead>\n",
       "  <tbody>\n",
       "    <tr>\n",
       "      <th>0</th>\n",
       "      <td>01.12.2019</td>\n",
       "      <td>01:00</td>\n",
       "      <td>867</td>\n",
       "      <td>-3,5</td>\n",
       "      <td>1023</td>\n",
       "    </tr>\n",
       "    <tr>\n",
       "      <th>1</th>\n",
       "      <td>01.12.2019</td>\n",
       "      <td>02:00</td>\n",
       "      <td>885</td>\n",
       "      <td>-3,6</td>\n",
       "      <td>1023</td>\n",
       "    </tr>\n",
       "    <tr>\n",
       "      <th>2</th>\n",
       "      <td>01.12.2019</td>\n",
       "      <td>03:00</td>\n",
       "      <td>890</td>\n",
       "      <td>-3,2</td>\n",
       "      <td>1022</td>\n",
       "    </tr>\n",
       "    <tr>\n",
       "      <th>3</th>\n",
       "      <td>01.12.2019</td>\n",
       "      <td>04:00</td>\n",
       "      <td>883</td>\n",
       "      <td>-3,4</td>\n",
       "      <td>1022</td>\n",
       "    </tr>\n",
       "    <tr>\n",
       "      <th>4</th>\n",
       "      <td>01.12.2019</td>\n",
       "      <td>05:00</td>\n",
       "      <td>891</td>\n",
       "      <td>-3,6</td>\n",
       "      <td>1022</td>\n",
       "    </tr>\n",
       "  </tbody>\n",
       "</table>\n",
       "</div>"
      ],
      "text/plain": [
       "        Datum   Zeit Kohlendioxid (CO2)[mg/m³] Temperatur[°C] Luftdruck[hPa]\n",
       "0  01.12.2019  01:00                       867           -3,5           1023\n",
       "1  01.12.2019  02:00                       885           -3,6           1023\n",
       "2  01.12.2019  03:00                       890           -3,2           1022\n",
       "3  01.12.2019  04:00                       883           -3,4           1022\n",
       "4  01.12.2019  05:00                       891           -3,6           1022"
      ]
     },
     "execution_count": 3,
     "metadata": {},
     "output_type": "execute_result"
    }
   ],
   "source": [
    "df.head()"
   ]
  },
  {
   "cell_type": "markdown",
   "metadata": {
    "id": "kaKiKAL7_JHn"
   },
   "source": [
    "Beim Einlesen von Daten versucht Pandas, die Daten automatisch in ein Zahlenformat (Integer oder Floats) zu konvertieren. Mit df.dtypes erhalten wir den entsprechenden Datentyp. Für die Messparameter und das Datum ist das nicht gelungen. Für die Verarbeitungsschritte, die uns noch bevorstehen, ist dieses Format ungeeignet. "
   ]
  },
  {
   "cell_type": "code",
   "execution_count": 4,
   "metadata": {
    "colab": {
     "base_uri": "https://localhost:8080/"
    },
    "id": "55D0caST6cmD",
    "outputId": "e02b8bf1-ec46-4e59-bcbe-255c84fcd31f"
   },
   "outputs": [
    {
     "data": {
      "text/plain": [
       "Datum                        object\n",
       "Zeit                         object\n",
       "Kohlendioxid (CO2)[mg/m³]    object\n",
       "Temperatur[°C]               object\n",
       "Luftdruck[hPa]               object\n",
       "dtype: object"
      ]
     },
     "execution_count": 4,
     "metadata": {},
     "output_type": "execute_result"
    }
   ],
   "source": [
    "df.dtypes"
   ]
  },
  {
   "cell_type": "markdown",
   "metadata": {
    "id": "U2WmkSJUdt7W"
   },
   "source": [
    "Wir tauschen die Dezimaltrennzeichen in Spalte Temperatur[°C]  ',' mit '.' und erstellen eine neue Spalte Temperatur (df['Temperatur'])."
   ]
  },
  {
   "cell_type": "code",
   "execution_count": 5,
   "metadata": {
    "id": "zUk80xD0dufh"
   },
   "outputs": [],
   "source": [
    "\n",
    "df['Temperatur'] = [x.replace(',', '.') for x in df['Temperatur[°C]']]"
   ]
  },
  {
   "cell_type": "code",
   "execution_count": 6,
   "metadata": {
    "colab": {
     "base_uri": "https://localhost:8080/",
     "height": 206
    },
    "id": "EG_A_djbeNZU",
    "outputId": "eaea1dbd-d5ba-4c48-f1b6-feff5f936141"
   },
   "outputs": [
    {
     "data": {
      "text/html": [
       "<div>\n",
       "<style scoped>\n",
       "    .dataframe tbody tr th:only-of-type {\n",
       "        vertical-align: middle;\n",
       "    }\n",
       "\n",
       "    .dataframe tbody tr th {\n",
       "        vertical-align: top;\n",
       "    }\n",
       "\n",
       "    .dataframe thead th {\n",
       "        text-align: right;\n",
       "    }\n",
       "</style>\n",
       "<table border=\"1\" class=\"dataframe\">\n",
       "  <thead>\n",
       "    <tr style=\"text-align: right;\">\n",
       "      <th></th>\n",
       "      <th>Datum</th>\n",
       "      <th>Zeit</th>\n",
       "      <th>Kohlendioxid (CO2)[mg/m³]</th>\n",
       "      <th>Temperatur[°C]</th>\n",
       "      <th>Luftdruck[hPa]</th>\n",
       "      <th>Temperatur</th>\n",
       "    </tr>\n",
       "  </thead>\n",
       "  <tbody>\n",
       "    <tr>\n",
       "      <th>0</th>\n",
       "      <td>01.12.2019</td>\n",
       "      <td>01:00</td>\n",
       "      <td>867</td>\n",
       "      <td>-3,5</td>\n",
       "      <td>1023</td>\n",
       "      <td>-3.5</td>\n",
       "    </tr>\n",
       "    <tr>\n",
       "      <th>1</th>\n",
       "      <td>01.12.2019</td>\n",
       "      <td>02:00</td>\n",
       "      <td>885</td>\n",
       "      <td>-3,6</td>\n",
       "      <td>1023</td>\n",
       "      <td>-3.6</td>\n",
       "    </tr>\n",
       "    <tr>\n",
       "      <th>2</th>\n",
       "      <td>01.12.2019</td>\n",
       "      <td>03:00</td>\n",
       "      <td>890</td>\n",
       "      <td>-3,2</td>\n",
       "      <td>1022</td>\n",
       "      <td>-3.2</td>\n",
       "    </tr>\n",
       "    <tr>\n",
       "      <th>3</th>\n",
       "      <td>01.12.2019</td>\n",
       "      <td>04:00</td>\n",
       "      <td>883</td>\n",
       "      <td>-3,4</td>\n",
       "      <td>1022</td>\n",
       "      <td>-3.4</td>\n",
       "    </tr>\n",
       "    <tr>\n",
       "      <th>4</th>\n",
       "      <td>01.12.2019</td>\n",
       "      <td>05:00</td>\n",
       "      <td>891</td>\n",
       "      <td>-3,6</td>\n",
       "      <td>1022</td>\n",
       "      <td>-3.6</td>\n",
       "    </tr>\n",
       "  </tbody>\n",
       "</table>\n",
       "</div>"
      ],
      "text/plain": [
       "        Datum   Zeit Kohlendioxid (CO2)[mg/m³] Temperatur[°C] Luftdruck[hPa]  \\\n",
       "0  01.12.2019  01:00                       867           -3,5           1023   \n",
       "1  01.12.2019  02:00                       885           -3,6           1023   \n",
       "2  01.12.2019  03:00                       890           -3,2           1022   \n",
       "3  01.12.2019  04:00                       883           -3,4           1022   \n",
       "4  01.12.2019  05:00                       891           -3,6           1022   \n",
       "\n",
       "  Temperatur  \n",
       "0       -3.5  \n",
       "1       -3.6  \n",
       "2       -3.2  \n",
       "3       -3.4  \n",
       "4       -3.6  "
      ]
     },
     "execution_count": 6,
     "metadata": {},
     "output_type": "execute_result"
    }
   ],
   "source": [
    "df.head()"
   ]
  },
  {
   "cell_type": "markdown",
   "metadata": {
    "id": "0EwpXhcTdunl"
   },
   "source": [
    "Wir wandeln die Datenreihe Luftdruck[hPa], Temperatur und Kohlendioxid (CO2)[mg/m³] von object zu float um, und erstellen neue Spalten namens Luftdruck, Temperatur und Kohlendioxid.\n",
    "\n",
    "WICHTIG: errors='coerce' wandelt '-' und alle weiteren Zeichen zu NaN um."
   ]
  },
  {
   "cell_type": "code",
   "execution_count": 7,
   "metadata": {
    "id": "-NqH-LU_duuZ"
   },
   "outputs": [],
   "source": [
    "df['Luftdruck'] = pd.to_numeric(df['Luftdruck[hPa]'], errors='coerce')\n",
    "\n",
    "df['Temperatur'] = pd.to_numeric(df['Temperatur'], errors='coerce')\n",
    "\n",
    "df['Kohlendioxid'] = pd.to_numeric(df['Kohlendioxid (CO2)[mg/m³]'], errors='coerce')"
   ]
  },
  {
   "cell_type": "code",
   "execution_count": 8,
   "metadata": {
    "colab": {
     "base_uri": "https://localhost:8080/",
     "height": 206
    },
    "id": "k88RADmgflmF",
    "outputId": "4610334a-d752-4907-a277-8d5e18f78287"
   },
   "outputs": [
    {
     "data": {
      "text/html": [
       "<div>\n",
       "<style scoped>\n",
       "    .dataframe tbody tr th:only-of-type {\n",
       "        vertical-align: middle;\n",
       "    }\n",
       "\n",
       "    .dataframe tbody tr th {\n",
       "        vertical-align: top;\n",
       "    }\n",
       "\n",
       "    .dataframe thead th {\n",
       "        text-align: right;\n",
       "    }\n",
       "</style>\n",
       "<table border=\"1\" class=\"dataframe\">\n",
       "  <thead>\n",
       "    <tr style=\"text-align: right;\">\n",
       "      <th></th>\n",
       "      <th>Datum</th>\n",
       "      <th>Zeit</th>\n",
       "      <th>Kohlendioxid (CO2)[mg/m³]</th>\n",
       "      <th>Temperatur[°C]</th>\n",
       "      <th>Luftdruck[hPa]</th>\n",
       "      <th>Temperatur</th>\n",
       "      <th>Luftdruck</th>\n",
       "      <th>Kohlendioxid</th>\n",
       "    </tr>\n",
       "  </thead>\n",
       "  <tbody>\n",
       "    <tr>\n",
       "      <th>0</th>\n",
       "      <td>01.12.2019</td>\n",
       "      <td>01:00</td>\n",
       "      <td>867</td>\n",
       "      <td>-3,5</td>\n",
       "      <td>1023</td>\n",
       "      <td>-3.5</td>\n",
       "      <td>1023.0</td>\n",
       "      <td>867.0</td>\n",
       "    </tr>\n",
       "    <tr>\n",
       "      <th>1</th>\n",
       "      <td>01.12.2019</td>\n",
       "      <td>02:00</td>\n",
       "      <td>885</td>\n",
       "      <td>-3,6</td>\n",
       "      <td>1023</td>\n",
       "      <td>-3.6</td>\n",
       "      <td>1023.0</td>\n",
       "      <td>885.0</td>\n",
       "    </tr>\n",
       "    <tr>\n",
       "      <th>2</th>\n",
       "      <td>01.12.2019</td>\n",
       "      <td>03:00</td>\n",
       "      <td>890</td>\n",
       "      <td>-3,2</td>\n",
       "      <td>1022</td>\n",
       "      <td>-3.2</td>\n",
       "      <td>1022.0</td>\n",
       "      <td>890.0</td>\n",
       "    </tr>\n",
       "    <tr>\n",
       "      <th>3</th>\n",
       "      <td>01.12.2019</td>\n",
       "      <td>04:00</td>\n",
       "      <td>883</td>\n",
       "      <td>-3,4</td>\n",
       "      <td>1022</td>\n",
       "      <td>-3.4</td>\n",
       "      <td>1022.0</td>\n",
       "      <td>883.0</td>\n",
       "    </tr>\n",
       "    <tr>\n",
       "      <th>4</th>\n",
       "      <td>01.12.2019</td>\n",
       "      <td>05:00</td>\n",
       "      <td>891</td>\n",
       "      <td>-3,6</td>\n",
       "      <td>1022</td>\n",
       "      <td>-3.6</td>\n",
       "      <td>1022.0</td>\n",
       "      <td>891.0</td>\n",
       "    </tr>\n",
       "  </tbody>\n",
       "</table>\n",
       "</div>"
      ],
      "text/plain": [
       "        Datum   Zeit Kohlendioxid (CO2)[mg/m³] Temperatur[°C] Luftdruck[hPa]  \\\n",
       "0  01.12.2019  01:00                       867           -3,5           1023   \n",
       "1  01.12.2019  02:00                       885           -3,6           1023   \n",
       "2  01.12.2019  03:00                       890           -3,2           1022   \n",
       "3  01.12.2019  04:00                       883           -3,4           1022   \n",
       "4  01.12.2019  05:00                       891           -3,6           1022   \n",
       "\n",
       "   Temperatur  Luftdruck  Kohlendioxid  \n",
       "0        -3.5     1023.0         867.0  \n",
       "1        -3.6     1023.0         885.0  \n",
       "2        -3.2     1022.0         890.0  \n",
       "3        -3.4     1022.0         883.0  \n",
       "4        -3.6     1022.0         891.0  "
      ]
     },
     "execution_count": 8,
     "metadata": {},
     "output_type": "execute_result"
    }
   ],
   "source": [
    "df.head()"
   ]
  },
  {
   "cell_type": "code",
   "execution_count": 9,
   "metadata": {
    "colab": {
     "base_uri": "https://localhost:8080/",
     "height": 206
    },
    "id": "mpB6RnRFgPDt",
    "outputId": "85262eef-a57b-4b50-cb00-cbcfcf040ffe"
   },
   "outputs": [
    {
     "data": {
      "text/html": [
       "<div>\n",
       "<style scoped>\n",
       "    .dataframe tbody tr th:only-of-type {\n",
       "        vertical-align: middle;\n",
       "    }\n",
       "\n",
       "    .dataframe tbody tr th {\n",
       "        vertical-align: top;\n",
       "    }\n",
       "\n",
       "    .dataframe thead th {\n",
       "        text-align: right;\n",
       "    }\n",
       "</style>\n",
       "<table border=\"1\" class=\"dataframe\">\n",
       "  <thead>\n",
       "    <tr style=\"text-align: right;\">\n",
       "      <th></th>\n",
       "      <th>Datum</th>\n",
       "      <th>Zeit</th>\n",
       "      <th>Kohlendioxid (CO2)[mg/m³]</th>\n",
       "      <th>Temperatur[°C]</th>\n",
       "      <th>Luftdruck[hPa]</th>\n",
       "      <th>Temperatur</th>\n",
       "      <th>Luftdruck</th>\n",
       "      <th>Kohlendioxid</th>\n",
       "    </tr>\n",
       "  </thead>\n",
       "  <tbody>\n",
       "    <tr>\n",
       "      <th>4147</th>\n",
       "      <td>21.05.2020</td>\n",
       "      <td>20:00</td>\n",
       "      <td>-</td>\n",
       "      <td>-</td>\n",
       "      <td>-</td>\n",
       "      <td>NaN</td>\n",
       "      <td>NaN</td>\n",
       "      <td>NaN</td>\n",
       "    </tr>\n",
       "    <tr>\n",
       "      <th>4148</th>\n",
       "      <td>21.05.2020</td>\n",
       "      <td>21:00</td>\n",
       "      <td>-</td>\n",
       "      <td>-</td>\n",
       "      <td>-</td>\n",
       "      <td>NaN</td>\n",
       "      <td>NaN</td>\n",
       "      <td>NaN</td>\n",
       "    </tr>\n",
       "    <tr>\n",
       "      <th>4149</th>\n",
       "      <td>21.05.2020</td>\n",
       "      <td>22:00</td>\n",
       "      <td>-</td>\n",
       "      <td>-</td>\n",
       "      <td>-</td>\n",
       "      <td>NaN</td>\n",
       "      <td>NaN</td>\n",
       "      <td>NaN</td>\n",
       "    </tr>\n",
       "    <tr>\n",
       "      <th>4150</th>\n",
       "      <td>21.05.2020</td>\n",
       "      <td>23:00</td>\n",
       "      <td>-</td>\n",
       "      <td>-</td>\n",
       "      <td>-</td>\n",
       "      <td>NaN</td>\n",
       "      <td>NaN</td>\n",
       "      <td>NaN</td>\n",
       "    </tr>\n",
       "    <tr>\n",
       "      <th>4151</th>\n",
       "      <td>21.05.2020</td>\n",
       "      <td>24:00</td>\n",
       "      <td>-</td>\n",
       "      <td>-</td>\n",
       "      <td>-</td>\n",
       "      <td>NaN</td>\n",
       "      <td>NaN</td>\n",
       "      <td>NaN</td>\n",
       "    </tr>\n",
       "  </tbody>\n",
       "</table>\n",
       "</div>"
      ],
      "text/plain": [
       "           Datum   Zeit Kohlendioxid (CO2)[mg/m³] Temperatur[°C]  \\\n",
       "4147  21.05.2020  20:00                         -              -   \n",
       "4148  21.05.2020  21:00                         -              -   \n",
       "4149  21.05.2020  22:00                         -              -   \n",
       "4150  21.05.2020  23:00                         -              -   \n",
       "4151  21.05.2020  24:00                         -              -   \n",
       "\n",
       "     Luftdruck[hPa]  Temperatur  Luftdruck  Kohlendioxid  \n",
       "4147              -         NaN        NaN           NaN  \n",
       "4148              -         NaN        NaN           NaN  \n",
       "4149              -         NaN        NaN           NaN  \n",
       "4150              -         NaN        NaN           NaN  \n",
       "4151              -         NaN        NaN           NaN  "
      ]
     },
     "execution_count": 9,
     "metadata": {},
     "output_type": "execute_result"
    }
   ],
   "source": [
    "df.tail()"
   ]
  },
  {
   "cell_type": "code",
   "execution_count": 10,
   "metadata": {
    "colab": {
     "base_uri": "https://localhost:8080/"
    },
    "id": "ILPsuR64frIv",
    "outputId": "475ba168-99ae-49df-8382-0da65bfd09d7"
   },
   "outputs": [
    {
     "data": {
      "text/plain": [
       "Datum                         object\n",
       "Zeit                          object\n",
       "Kohlendioxid (CO2)[mg/m³]     object\n",
       "Temperatur[°C]                object\n",
       "Luftdruck[hPa]                object\n",
       "Temperatur                   float64\n",
       "Luftdruck                    float64\n",
       "Kohlendioxid                 float64\n",
       "dtype: object"
      ]
     },
     "execution_count": 10,
     "metadata": {},
     "output_type": "execute_result"
    }
   ],
   "source": [
    "df.dtypes"
   ]
  },
  {
   "cell_type": "markdown",
   "metadata": {
    "id": "-AvQiKOtdu1Z"
   },
   "source": [
    "Für die weitere Verarbeitung der Daten brauchen wir ein bestimmtes **Datumsformat**. Zum Beispiel für FP Prophet.\n",
    "\n",
    "Wir addieren zur Spalte 'Zeit' :00 und fügen eine neue Spalte \n",
    "'Sekundenformat' hinzu, ohne Sekundenformat gibt es eine Fehlermeldung, z.B. bei FP Prophet.\n"
   ]
  },
  {
   "cell_type": "code",
   "execution_count": 11,
   "metadata": {
    "id": "aiAnnhrBdu71"
   },
   "outputs": [],
   "source": [
    "df['Sekundenformat'] = df['Zeit'] + ':00'"
   ]
  },
  {
   "cell_type": "code",
   "execution_count": 12,
   "metadata": {
    "colab": {
     "base_uri": "https://localhost:8080/",
     "height": 206
    },
    "id": "UrV-8Xmvjqjv",
    "outputId": "0dea2fc8-cda5-4d72-bbbe-8f550254431e"
   },
   "outputs": [
    {
     "data": {
      "text/html": [
       "<div>\n",
       "<style scoped>\n",
       "    .dataframe tbody tr th:only-of-type {\n",
       "        vertical-align: middle;\n",
       "    }\n",
       "\n",
       "    .dataframe tbody tr th {\n",
       "        vertical-align: top;\n",
       "    }\n",
       "\n",
       "    .dataframe thead th {\n",
       "        text-align: right;\n",
       "    }\n",
       "</style>\n",
       "<table border=\"1\" class=\"dataframe\">\n",
       "  <thead>\n",
       "    <tr style=\"text-align: right;\">\n",
       "      <th></th>\n",
       "      <th>Datum</th>\n",
       "      <th>Zeit</th>\n",
       "      <th>Kohlendioxid (CO2)[mg/m³]</th>\n",
       "      <th>Temperatur[°C]</th>\n",
       "      <th>Luftdruck[hPa]</th>\n",
       "      <th>Temperatur</th>\n",
       "      <th>Luftdruck</th>\n",
       "      <th>Kohlendioxid</th>\n",
       "      <th>Sekundenformat</th>\n",
       "    </tr>\n",
       "  </thead>\n",
       "  <tbody>\n",
       "    <tr>\n",
       "      <th>0</th>\n",
       "      <td>01.12.2019</td>\n",
       "      <td>01:00</td>\n",
       "      <td>867</td>\n",
       "      <td>-3,5</td>\n",
       "      <td>1023</td>\n",
       "      <td>-3.5</td>\n",
       "      <td>1023.0</td>\n",
       "      <td>867.0</td>\n",
       "      <td>01:00:00</td>\n",
       "    </tr>\n",
       "    <tr>\n",
       "      <th>1</th>\n",
       "      <td>01.12.2019</td>\n",
       "      <td>02:00</td>\n",
       "      <td>885</td>\n",
       "      <td>-3,6</td>\n",
       "      <td>1023</td>\n",
       "      <td>-3.6</td>\n",
       "      <td>1023.0</td>\n",
       "      <td>885.0</td>\n",
       "      <td>02:00:00</td>\n",
       "    </tr>\n",
       "    <tr>\n",
       "      <th>2</th>\n",
       "      <td>01.12.2019</td>\n",
       "      <td>03:00</td>\n",
       "      <td>890</td>\n",
       "      <td>-3,2</td>\n",
       "      <td>1022</td>\n",
       "      <td>-3.2</td>\n",
       "      <td>1022.0</td>\n",
       "      <td>890.0</td>\n",
       "      <td>03:00:00</td>\n",
       "    </tr>\n",
       "    <tr>\n",
       "      <th>3</th>\n",
       "      <td>01.12.2019</td>\n",
       "      <td>04:00</td>\n",
       "      <td>883</td>\n",
       "      <td>-3,4</td>\n",
       "      <td>1022</td>\n",
       "      <td>-3.4</td>\n",
       "      <td>1022.0</td>\n",
       "      <td>883.0</td>\n",
       "      <td>04:00:00</td>\n",
       "    </tr>\n",
       "    <tr>\n",
       "      <th>4</th>\n",
       "      <td>01.12.2019</td>\n",
       "      <td>05:00</td>\n",
       "      <td>891</td>\n",
       "      <td>-3,6</td>\n",
       "      <td>1022</td>\n",
       "      <td>-3.6</td>\n",
       "      <td>1022.0</td>\n",
       "      <td>891.0</td>\n",
       "      <td>05:00:00</td>\n",
       "    </tr>\n",
       "  </tbody>\n",
       "</table>\n",
       "</div>"
      ],
      "text/plain": [
       "        Datum   Zeit Kohlendioxid (CO2)[mg/m³] Temperatur[°C] Luftdruck[hPa]  \\\n",
       "0  01.12.2019  01:00                       867           -3,5           1023   \n",
       "1  01.12.2019  02:00                       885           -3,6           1023   \n",
       "2  01.12.2019  03:00                       890           -3,2           1022   \n",
       "3  01.12.2019  04:00                       883           -3,4           1022   \n",
       "4  01.12.2019  05:00                       891           -3,6           1022   \n",
       "\n",
       "   Temperatur  Luftdruck  Kohlendioxid Sekundenformat  \n",
       "0        -3.5     1023.0         867.0       01:00:00  \n",
       "1        -3.6     1023.0         885.0       02:00:00  \n",
       "2        -3.2     1022.0         890.0       03:00:00  \n",
       "3        -3.4     1022.0         883.0       04:00:00  \n",
       "4        -3.6     1022.0         891.0       05:00:00  "
      ]
     },
     "execution_count": 12,
     "metadata": {},
     "output_type": "execute_result"
    }
   ],
   "source": [
    "df.head()"
   ]
  },
  {
   "cell_type": "markdown",
   "metadata": {
    "id": "Btl40W9Ujpyx"
   },
   "source": [
    "Dieser Weg verursachte einen Fehler: \n",
    "Monat und Tag zu Beginn richtig aber zum Schluß falsch:\n",
    "df['Datum2']=pd.to_datetime(df.Datum) + pd.to_timedelta(df.period)\n",
    "\n",
    "df[\"Date\"] = df[\"Datum2\"].apply(lambda x: datetime.combine(x, datetime.min.time()))\n",
    "\n",
    "df[\"Date\"] = df[\"Datum\"].dt.strftime(\"%d-%m-%y %H:%M\")"
   ]
  },
  {
   "cell_type": "markdown",
   "metadata": {
    "id": "JRgG3k6BdvDk"
   },
   "source": [
    "Wir nutzen die Pandas-Funktion **to_datetime**. Um datumsspezifische Operationen durchführen zu können."
   ]
  },
  {
   "cell_type": "code",
   "execution_count": 13,
   "metadata": {
    "id": "dkirx0AkdvJ0"
   },
   "outputs": [],
   "source": [
    "df['DatumYDM']=pd.to_datetime(df.Datum)"
   ]
  },
  {
   "cell_type": "code",
   "execution_count": 14,
   "metadata": {
    "colab": {
     "base_uri": "https://localhost:8080/",
     "height": 206
    },
    "id": "mkQPo3zNpLyt",
    "outputId": "74b3d194-3ee6-4018-d971-383f7214cd2c"
   },
   "outputs": [
    {
     "data": {
      "text/html": [
       "<div>\n",
       "<style scoped>\n",
       "    .dataframe tbody tr th:only-of-type {\n",
       "        vertical-align: middle;\n",
       "    }\n",
       "\n",
       "    .dataframe tbody tr th {\n",
       "        vertical-align: top;\n",
       "    }\n",
       "\n",
       "    .dataframe thead th {\n",
       "        text-align: right;\n",
       "    }\n",
       "</style>\n",
       "<table border=\"1\" class=\"dataframe\">\n",
       "  <thead>\n",
       "    <tr style=\"text-align: right;\">\n",
       "      <th></th>\n",
       "      <th>Datum</th>\n",
       "      <th>Zeit</th>\n",
       "      <th>Kohlendioxid (CO2)[mg/m³]</th>\n",
       "      <th>Temperatur[°C]</th>\n",
       "      <th>Luftdruck[hPa]</th>\n",
       "      <th>Temperatur</th>\n",
       "      <th>Luftdruck</th>\n",
       "      <th>Kohlendioxid</th>\n",
       "      <th>Sekundenformat</th>\n",
       "      <th>DatumYDM</th>\n",
       "    </tr>\n",
       "  </thead>\n",
       "  <tbody>\n",
       "    <tr>\n",
       "      <th>0</th>\n",
       "      <td>01.12.2019</td>\n",
       "      <td>01:00</td>\n",
       "      <td>867</td>\n",
       "      <td>-3,5</td>\n",
       "      <td>1023</td>\n",
       "      <td>-3.5</td>\n",
       "      <td>1023.0</td>\n",
       "      <td>867.0</td>\n",
       "      <td>01:00:00</td>\n",
       "      <td>2019-01-12</td>\n",
       "    </tr>\n",
       "    <tr>\n",
       "      <th>1</th>\n",
       "      <td>01.12.2019</td>\n",
       "      <td>02:00</td>\n",
       "      <td>885</td>\n",
       "      <td>-3,6</td>\n",
       "      <td>1023</td>\n",
       "      <td>-3.6</td>\n",
       "      <td>1023.0</td>\n",
       "      <td>885.0</td>\n",
       "      <td>02:00:00</td>\n",
       "      <td>2019-01-12</td>\n",
       "    </tr>\n",
       "    <tr>\n",
       "      <th>2</th>\n",
       "      <td>01.12.2019</td>\n",
       "      <td>03:00</td>\n",
       "      <td>890</td>\n",
       "      <td>-3,2</td>\n",
       "      <td>1022</td>\n",
       "      <td>-3.2</td>\n",
       "      <td>1022.0</td>\n",
       "      <td>890.0</td>\n",
       "      <td>03:00:00</td>\n",
       "      <td>2019-01-12</td>\n",
       "    </tr>\n",
       "    <tr>\n",
       "      <th>3</th>\n",
       "      <td>01.12.2019</td>\n",
       "      <td>04:00</td>\n",
       "      <td>883</td>\n",
       "      <td>-3,4</td>\n",
       "      <td>1022</td>\n",
       "      <td>-3.4</td>\n",
       "      <td>1022.0</td>\n",
       "      <td>883.0</td>\n",
       "      <td>04:00:00</td>\n",
       "      <td>2019-01-12</td>\n",
       "    </tr>\n",
       "    <tr>\n",
       "      <th>4</th>\n",
       "      <td>01.12.2019</td>\n",
       "      <td>05:00</td>\n",
       "      <td>891</td>\n",
       "      <td>-3,6</td>\n",
       "      <td>1022</td>\n",
       "      <td>-3.6</td>\n",
       "      <td>1022.0</td>\n",
       "      <td>891.0</td>\n",
       "      <td>05:00:00</td>\n",
       "      <td>2019-01-12</td>\n",
       "    </tr>\n",
       "  </tbody>\n",
       "</table>\n",
       "</div>"
      ],
      "text/plain": [
       "        Datum   Zeit Kohlendioxid (CO2)[mg/m³] Temperatur[°C] Luftdruck[hPa]  \\\n",
       "0  01.12.2019  01:00                       867           -3,5           1023   \n",
       "1  01.12.2019  02:00                       885           -3,6           1023   \n",
       "2  01.12.2019  03:00                       890           -3,2           1022   \n",
       "3  01.12.2019  04:00                       883           -3,4           1022   \n",
       "4  01.12.2019  05:00                       891           -3,6           1022   \n",
       "\n",
       "   Temperatur  Luftdruck  Kohlendioxid Sekundenformat   DatumYDM  \n",
       "0        -3.5     1023.0         867.0       01:00:00 2019-01-12  \n",
       "1        -3.6     1023.0         885.0       02:00:00 2019-01-12  \n",
       "2        -3.2     1022.0         890.0       03:00:00 2019-01-12  \n",
       "3        -3.4     1022.0         883.0       04:00:00 2019-01-12  \n",
       "4        -3.6     1022.0         891.0       05:00:00 2019-01-12  "
      ]
     },
     "execution_count": 14,
     "metadata": {},
     "output_type": "execute_result"
    }
   ],
   "source": [
    "df.head()"
   ]
  },
  {
   "cell_type": "code",
   "execution_count": 15,
   "metadata": {
    "colab": {
     "base_uri": "https://localhost:8080/"
    },
    "id": "Zu05Nll3pmb_",
    "outputId": "3f6e312a-9bca-4070-d955-1c6252305eab"
   },
   "outputs": [
    {
     "data": {
      "text/plain": [
       "Datum                                object\n",
       "Zeit                                 object\n",
       "Kohlendioxid (CO2)[mg/m³]            object\n",
       "Temperatur[°C]                       object\n",
       "Luftdruck[hPa]                       object\n",
       "Temperatur                          float64\n",
       "Luftdruck                           float64\n",
       "Kohlendioxid                        float64\n",
       "Sekundenformat                       object\n",
       "DatumYDM                     datetime64[ns]\n",
       "dtype: object"
      ]
     },
     "execution_count": 15,
     "metadata": {},
     "output_type": "execute_result"
    }
   ],
   "source": [
    "df.dtypes"
   ]
  },
  {
   "cell_type": "markdown",
   "metadata": {
    "id": "aO-7xxm0pdnG"
   },
   "source": [
    "\n",
    "Wir informieren Pandas, dass die zu lesenden Werte nacheinander Angaben zum Tag, Monat, Jahr beinhalten. "
   ]
  },
  {
   "cell_type": "code",
   "execution_count": 16,
   "metadata": {
    "id": "EOCo09uhpdut"
   },
   "outputs": [],
   "source": [
    "df[\"DatumMDY\"] = df[\"DatumYDM\"].dt.strftime(\"%d-%m-%y\")"
   ]
  },
  {
   "cell_type": "markdown",
   "metadata": {
    "id": "w-ylqSKBpd1w"
   },
   "source": [
    "Wir wandeln Spalte Sekundenformat in 0 days 01:00:00 um. (zählt nur Stunden bis 24 und beginnt bei 0 Tage)"
   ]
  },
  {
   "cell_type": "code",
   "execution_count": 17,
   "metadata": {
    "id": "hvjbG3pIpd7v"
   },
   "outputs": [],
   "source": [
    "df['Stundenzaehler']=pd.to_timedelta(df.Sekundenformat)"
   ]
  },
  {
   "cell_type": "code",
   "execution_count": 18,
   "metadata": {
    "colab": {
     "base_uri": "https://localhost:8080/",
     "height": 206
    },
    "id": "XUJVXyzry86A",
    "outputId": "413728d3-1561-4dae-fa98-c6f799022a04"
   },
   "outputs": [
    {
     "data": {
      "text/html": [
       "<div>\n",
       "<style scoped>\n",
       "    .dataframe tbody tr th:only-of-type {\n",
       "        vertical-align: middle;\n",
       "    }\n",
       "\n",
       "    .dataframe tbody tr th {\n",
       "        vertical-align: top;\n",
       "    }\n",
       "\n",
       "    .dataframe thead th {\n",
       "        text-align: right;\n",
       "    }\n",
       "</style>\n",
       "<table border=\"1\" class=\"dataframe\">\n",
       "  <thead>\n",
       "    <tr style=\"text-align: right;\">\n",
       "      <th></th>\n",
       "      <th>Datum</th>\n",
       "      <th>Zeit</th>\n",
       "      <th>Kohlendioxid (CO2)[mg/m³]</th>\n",
       "      <th>Temperatur[°C]</th>\n",
       "      <th>Luftdruck[hPa]</th>\n",
       "      <th>Temperatur</th>\n",
       "      <th>Luftdruck</th>\n",
       "      <th>Kohlendioxid</th>\n",
       "      <th>Sekundenformat</th>\n",
       "      <th>DatumYDM</th>\n",
       "      <th>DatumMDY</th>\n",
       "      <th>Stundenzaehler</th>\n",
       "    </tr>\n",
       "  </thead>\n",
       "  <tbody>\n",
       "    <tr>\n",
       "      <th>0</th>\n",
       "      <td>01.12.2019</td>\n",
       "      <td>01:00</td>\n",
       "      <td>867</td>\n",
       "      <td>-3,5</td>\n",
       "      <td>1023</td>\n",
       "      <td>-3.5</td>\n",
       "      <td>1023.0</td>\n",
       "      <td>867.0</td>\n",
       "      <td>01:00:00</td>\n",
       "      <td>2019-01-12</td>\n",
       "      <td>12-01-19</td>\n",
       "      <td>0 days 01:00:00</td>\n",
       "    </tr>\n",
       "    <tr>\n",
       "      <th>1</th>\n",
       "      <td>01.12.2019</td>\n",
       "      <td>02:00</td>\n",
       "      <td>885</td>\n",
       "      <td>-3,6</td>\n",
       "      <td>1023</td>\n",
       "      <td>-3.6</td>\n",
       "      <td>1023.0</td>\n",
       "      <td>885.0</td>\n",
       "      <td>02:00:00</td>\n",
       "      <td>2019-01-12</td>\n",
       "      <td>12-01-19</td>\n",
       "      <td>0 days 02:00:00</td>\n",
       "    </tr>\n",
       "    <tr>\n",
       "      <th>2</th>\n",
       "      <td>01.12.2019</td>\n",
       "      <td>03:00</td>\n",
       "      <td>890</td>\n",
       "      <td>-3,2</td>\n",
       "      <td>1022</td>\n",
       "      <td>-3.2</td>\n",
       "      <td>1022.0</td>\n",
       "      <td>890.0</td>\n",
       "      <td>03:00:00</td>\n",
       "      <td>2019-01-12</td>\n",
       "      <td>12-01-19</td>\n",
       "      <td>0 days 03:00:00</td>\n",
       "    </tr>\n",
       "    <tr>\n",
       "      <th>3</th>\n",
       "      <td>01.12.2019</td>\n",
       "      <td>04:00</td>\n",
       "      <td>883</td>\n",
       "      <td>-3,4</td>\n",
       "      <td>1022</td>\n",
       "      <td>-3.4</td>\n",
       "      <td>1022.0</td>\n",
       "      <td>883.0</td>\n",
       "      <td>04:00:00</td>\n",
       "      <td>2019-01-12</td>\n",
       "      <td>12-01-19</td>\n",
       "      <td>0 days 04:00:00</td>\n",
       "    </tr>\n",
       "    <tr>\n",
       "      <th>4</th>\n",
       "      <td>01.12.2019</td>\n",
       "      <td>05:00</td>\n",
       "      <td>891</td>\n",
       "      <td>-3,6</td>\n",
       "      <td>1022</td>\n",
       "      <td>-3.6</td>\n",
       "      <td>1022.0</td>\n",
       "      <td>891.0</td>\n",
       "      <td>05:00:00</td>\n",
       "      <td>2019-01-12</td>\n",
       "      <td>12-01-19</td>\n",
       "      <td>0 days 05:00:00</td>\n",
       "    </tr>\n",
       "  </tbody>\n",
       "</table>\n",
       "</div>"
      ],
      "text/plain": [
       "        Datum   Zeit Kohlendioxid (CO2)[mg/m³] Temperatur[°C] Luftdruck[hPa]  \\\n",
       "0  01.12.2019  01:00                       867           -3,5           1023   \n",
       "1  01.12.2019  02:00                       885           -3,6           1023   \n",
       "2  01.12.2019  03:00                       890           -3,2           1022   \n",
       "3  01.12.2019  04:00                       883           -3,4           1022   \n",
       "4  01.12.2019  05:00                       891           -3,6           1022   \n",
       "\n",
       "   Temperatur  Luftdruck  Kohlendioxid Sekundenformat   DatumYDM  DatumMDY  \\\n",
       "0        -3.5     1023.0         867.0       01:00:00 2019-01-12  12-01-19   \n",
       "1        -3.6     1023.0         885.0       02:00:00 2019-01-12  12-01-19   \n",
       "2        -3.2     1022.0         890.0       03:00:00 2019-01-12  12-01-19   \n",
       "3        -3.4     1022.0         883.0       04:00:00 2019-01-12  12-01-19   \n",
       "4        -3.6     1022.0         891.0       05:00:00 2019-01-12  12-01-19   \n",
       "\n",
       "   Stundenzaehler  \n",
       "0 0 days 01:00:00  \n",
       "1 0 days 02:00:00  \n",
       "2 0 days 03:00:00  \n",
       "3 0 days 04:00:00  \n",
       "4 0 days 05:00:00  "
      ]
     },
     "execution_count": 18,
     "metadata": {},
     "output_type": "execute_result"
    }
   ],
   "source": [
    "df.head()"
   ]
  },
  {
   "cell_type": "markdown",
   "metadata": {
    "id": "AfCudsREpeCk"
   },
   "source": [
    "Wir addieren zur Spalte DatumMDY die Spalte Stundenzaehler = 2019-12-01 01:00:00"
   ]
  },
  {
   "cell_type": "code",
   "execution_count": 19,
   "metadata": {
    "id": "2YcugYIgpeJs"
   },
   "outputs": [],
   "source": [
    "df['DatumStundenzaehler']=pd.to_datetime(df.DatumMDY) + pd.to_timedelta(df.Stundenzaehler)"
   ]
  },
  {
   "cell_type": "code",
   "execution_count": 20,
   "metadata": {
    "colab": {
     "base_uri": "https://localhost:8080/",
     "height": 206
    },
    "id": "kT5w1oPnzLCV",
    "outputId": "3686f198-6f0f-4a48-eae7-d2bc566a6af3"
   },
   "outputs": [
    {
     "data": {
      "text/html": [
       "<div>\n",
       "<style scoped>\n",
       "    .dataframe tbody tr th:only-of-type {\n",
       "        vertical-align: middle;\n",
       "    }\n",
       "\n",
       "    .dataframe tbody tr th {\n",
       "        vertical-align: top;\n",
       "    }\n",
       "\n",
       "    .dataframe thead th {\n",
       "        text-align: right;\n",
       "    }\n",
       "</style>\n",
       "<table border=\"1\" class=\"dataframe\">\n",
       "  <thead>\n",
       "    <tr style=\"text-align: right;\">\n",
       "      <th></th>\n",
       "      <th>Datum</th>\n",
       "      <th>Zeit</th>\n",
       "      <th>Kohlendioxid (CO2)[mg/m³]</th>\n",
       "      <th>Temperatur[°C]</th>\n",
       "      <th>Luftdruck[hPa]</th>\n",
       "      <th>Temperatur</th>\n",
       "      <th>Luftdruck</th>\n",
       "      <th>Kohlendioxid</th>\n",
       "      <th>Sekundenformat</th>\n",
       "      <th>DatumYDM</th>\n",
       "      <th>DatumMDY</th>\n",
       "      <th>Stundenzaehler</th>\n",
       "      <th>DatumStundenzaehler</th>\n",
       "    </tr>\n",
       "  </thead>\n",
       "  <tbody>\n",
       "    <tr>\n",
       "      <th>0</th>\n",
       "      <td>01.12.2019</td>\n",
       "      <td>01:00</td>\n",
       "      <td>867</td>\n",
       "      <td>-3,5</td>\n",
       "      <td>1023</td>\n",
       "      <td>-3.5</td>\n",
       "      <td>1023.0</td>\n",
       "      <td>867.0</td>\n",
       "      <td>01:00:00</td>\n",
       "      <td>2019-01-12</td>\n",
       "      <td>12-01-19</td>\n",
       "      <td>0 days 01:00:00</td>\n",
       "      <td>2019-12-01 01:00:00</td>\n",
       "    </tr>\n",
       "    <tr>\n",
       "      <th>1</th>\n",
       "      <td>01.12.2019</td>\n",
       "      <td>02:00</td>\n",
       "      <td>885</td>\n",
       "      <td>-3,6</td>\n",
       "      <td>1023</td>\n",
       "      <td>-3.6</td>\n",
       "      <td>1023.0</td>\n",
       "      <td>885.0</td>\n",
       "      <td>02:00:00</td>\n",
       "      <td>2019-01-12</td>\n",
       "      <td>12-01-19</td>\n",
       "      <td>0 days 02:00:00</td>\n",
       "      <td>2019-12-01 02:00:00</td>\n",
       "    </tr>\n",
       "    <tr>\n",
       "      <th>2</th>\n",
       "      <td>01.12.2019</td>\n",
       "      <td>03:00</td>\n",
       "      <td>890</td>\n",
       "      <td>-3,2</td>\n",
       "      <td>1022</td>\n",
       "      <td>-3.2</td>\n",
       "      <td>1022.0</td>\n",
       "      <td>890.0</td>\n",
       "      <td>03:00:00</td>\n",
       "      <td>2019-01-12</td>\n",
       "      <td>12-01-19</td>\n",
       "      <td>0 days 03:00:00</td>\n",
       "      <td>2019-12-01 03:00:00</td>\n",
       "    </tr>\n",
       "    <tr>\n",
       "      <th>3</th>\n",
       "      <td>01.12.2019</td>\n",
       "      <td>04:00</td>\n",
       "      <td>883</td>\n",
       "      <td>-3,4</td>\n",
       "      <td>1022</td>\n",
       "      <td>-3.4</td>\n",
       "      <td>1022.0</td>\n",
       "      <td>883.0</td>\n",
       "      <td>04:00:00</td>\n",
       "      <td>2019-01-12</td>\n",
       "      <td>12-01-19</td>\n",
       "      <td>0 days 04:00:00</td>\n",
       "      <td>2019-12-01 04:00:00</td>\n",
       "    </tr>\n",
       "    <tr>\n",
       "      <th>4</th>\n",
       "      <td>01.12.2019</td>\n",
       "      <td>05:00</td>\n",
       "      <td>891</td>\n",
       "      <td>-3,6</td>\n",
       "      <td>1022</td>\n",
       "      <td>-3.6</td>\n",
       "      <td>1022.0</td>\n",
       "      <td>891.0</td>\n",
       "      <td>05:00:00</td>\n",
       "      <td>2019-01-12</td>\n",
       "      <td>12-01-19</td>\n",
       "      <td>0 days 05:00:00</td>\n",
       "      <td>2019-12-01 05:00:00</td>\n",
       "    </tr>\n",
       "  </tbody>\n",
       "</table>\n",
       "</div>"
      ],
      "text/plain": [
       "        Datum   Zeit Kohlendioxid (CO2)[mg/m³] Temperatur[°C] Luftdruck[hPa]  \\\n",
       "0  01.12.2019  01:00                       867           -3,5           1023   \n",
       "1  01.12.2019  02:00                       885           -3,6           1023   \n",
       "2  01.12.2019  03:00                       890           -3,2           1022   \n",
       "3  01.12.2019  04:00                       883           -3,4           1022   \n",
       "4  01.12.2019  05:00                       891           -3,6           1022   \n",
       "\n",
       "   Temperatur  Luftdruck  Kohlendioxid Sekundenformat   DatumYDM  DatumMDY  \\\n",
       "0        -3.5     1023.0         867.0       01:00:00 2019-01-12  12-01-19   \n",
       "1        -3.6     1023.0         885.0       02:00:00 2019-01-12  12-01-19   \n",
       "2        -3.2     1022.0         890.0       03:00:00 2019-01-12  12-01-19   \n",
       "3        -3.4     1022.0         883.0       04:00:00 2019-01-12  12-01-19   \n",
       "4        -3.6     1022.0         891.0       05:00:00 2019-01-12  12-01-19   \n",
       "\n",
       "   Stundenzaehler DatumStundenzaehler  \n",
       "0 0 days 01:00:00 2019-12-01 01:00:00  \n",
       "1 0 days 02:00:00 2019-12-01 02:00:00  \n",
       "2 0 days 03:00:00 2019-12-01 03:00:00  \n",
       "3 0 days 04:00:00 2019-12-01 04:00:00  \n",
       "4 0 days 05:00:00 2019-12-01 05:00:00  "
      ]
     },
     "execution_count": 20,
     "metadata": {},
     "output_type": "execute_result"
    }
   ],
   "source": [
    "df.head()"
   ]
  },
  {
   "cell_type": "markdown",
   "metadata": {
    "id": "p9pOD8whzLJa"
   },
   "source": [
    "\n",
    "Das Datumsformat wird in 01-12-2019 01:00 umgwandelt"
   ]
  },
  {
   "cell_type": "code",
   "execution_count": 21,
   "metadata": {
    "id": "FNk33TCizLOH"
   },
   "outputs": [],
   "source": [
    "df[\"DatumFinal\"] = df[\"DatumStundenzaehler\"].dt.strftime(\"%d-%m-%y %H:%M\")"
   ]
  },
  {
   "cell_type": "code",
   "execution_count": 22,
   "metadata": {
    "colab": {
     "base_uri": "https://localhost:8080/",
     "height": 206
    },
    "id": "u2kPCUWdp6AE",
    "outputId": "26f3d491-6caa-4655-868e-02ed308471e9"
   },
   "outputs": [
    {
     "data": {
      "text/html": [
       "<div>\n",
       "<style scoped>\n",
       "    .dataframe tbody tr th:only-of-type {\n",
       "        vertical-align: middle;\n",
       "    }\n",
       "\n",
       "    .dataframe tbody tr th {\n",
       "        vertical-align: top;\n",
       "    }\n",
       "\n",
       "    .dataframe thead th {\n",
       "        text-align: right;\n",
       "    }\n",
       "</style>\n",
       "<table border=\"1\" class=\"dataframe\">\n",
       "  <thead>\n",
       "    <tr style=\"text-align: right;\">\n",
       "      <th></th>\n",
       "      <th>Datum</th>\n",
       "      <th>Zeit</th>\n",
       "      <th>Kohlendioxid (CO2)[mg/m³]</th>\n",
       "      <th>Temperatur[°C]</th>\n",
       "      <th>Luftdruck[hPa]</th>\n",
       "      <th>Temperatur</th>\n",
       "      <th>Luftdruck</th>\n",
       "      <th>Kohlendioxid</th>\n",
       "      <th>Sekundenformat</th>\n",
       "      <th>DatumYDM</th>\n",
       "      <th>DatumMDY</th>\n",
       "      <th>Stundenzaehler</th>\n",
       "      <th>DatumStundenzaehler</th>\n",
       "      <th>DatumFinal</th>\n",
       "    </tr>\n",
       "  </thead>\n",
       "  <tbody>\n",
       "    <tr>\n",
       "      <th>0</th>\n",
       "      <td>01.12.2019</td>\n",
       "      <td>01:00</td>\n",
       "      <td>867</td>\n",
       "      <td>-3,5</td>\n",
       "      <td>1023</td>\n",
       "      <td>-3.5</td>\n",
       "      <td>1023.0</td>\n",
       "      <td>867.0</td>\n",
       "      <td>01:00:00</td>\n",
       "      <td>2019-01-12</td>\n",
       "      <td>12-01-19</td>\n",
       "      <td>0 days 01:00:00</td>\n",
       "      <td>2019-12-01 01:00:00</td>\n",
       "      <td>01-12-19 01:00</td>\n",
       "    </tr>\n",
       "    <tr>\n",
       "      <th>1</th>\n",
       "      <td>01.12.2019</td>\n",
       "      <td>02:00</td>\n",
       "      <td>885</td>\n",
       "      <td>-3,6</td>\n",
       "      <td>1023</td>\n",
       "      <td>-3.6</td>\n",
       "      <td>1023.0</td>\n",
       "      <td>885.0</td>\n",
       "      <td>02:00:00</td>\n",
       "      <td>2019-01-12</td>\n",
       "      <td>12-01-19</td>\n",
       "      <td>0 days 02:00:00</td>\n",
       "      <td>2019-12-01 02:00:00</td>\n",
       "      <td>01-12-19 02:00</td>\n",
       "    </tr>\n",
       "    <tr>\n",
       "      <th>2</th>\n",
       "      <td>01.12.2019</td>\n",
       "      <td>03:00</td>\n",
       "      <td>890</td>\n",
       "      <td>-3,2</td>\n",
       "      <td>1022</td>\n",
       "      <td>-3.2</td>\n",
       "      <td>1022.0</td>\n",
       "      <td>890.0</td>\n",
       "      <td>03:00:00</td>\n",
       "      <td>2019-01-12</td>\n",
       "      <td>12-01-19</td>\n",
       "      <td>0 days 03:00:00</td>\n",
       "      <td>2019-12-01 03:00:00</td>\n",
       "      <td>01-12-19 03:00</td>\n",
       "    </tr>\n",
       "    <tr>\n",
       "      <th>3</th>\n",
       "      <td>01.12.2019</td>\n",
       "      <td>04:00</td>\n",
       "      <td>883</td>\n",
       "      <td>-3,4</td>\n",
       "      <td>1022</td>\n",
       "      <td>-3.4</td>\n",
       "      <td>1022.0</td>\n",
       "      <td>883.0</td>\n",
       "      <td>04:00:00</td>\n",
       "      <td>2019-01-12</td>\n",
       "      <td>12-01-19</td>\n",
       "      <td>0 days 04:00:00</td>\n",
       "      <td>2019-12-01 04:00:00</td>\n",
       "      <td>01-12-19 04:00</td>\n",
       "    </tr>\n",
       "    <tr>\n",
       "      <th>4</th>\n",
       "      <td>01.12.2019</td>\n",
       "      <td>05:00</td>\n",
       "      <td>891</td>\n",
       "      <td>-3,6</td>\n",
       "      <td>1022</td>\n",
       "      <td>-3.6</td>\n",
       "      <td>1022.0</td>\n",
       "      <td>891.0</td>\n",
       "      <td>05:00:00</td>\n",
       "      <td>2019-01-12</td>\n",
       "      <td>12-01-19</td>\n",
       "      <td>0 days 05:00:00</td>\n",
       "      <td>2019-12-01 05:00:00</td>\n",
       "      <td>01-12-19 05:00</td>\n",
       "    </tr>\n",
       "  </tbody>\n",
       "</table>\n",
       "</div>"
      ],
      "text/plain": [
       "        Datum   Zeit Kohlendioxid (CO2)[mg/m³] Temperatur[°C] Luftdruck[hPa]  \\\n",
       "0  01.12.2019  01:00                       867           -3,5           1023   \n",
       "1  01.12.2019  02:00                       885           -3,6           1023   \n",
       "2  01.12.2019  03:00                       890           -3,2           1022   \n",
       "3  01.12.2019  04:00                       883           -3,4           1022   \n",
       "4  01.12.2019  05:00                       891           -3,6           1022   \n",
       "\n",
       "   Temperatur  Luftdruck  Kohlendioxid Sekundenformat   DatumYDM  DatumMDY  \\\n",
       "0        -3.5     1023.0         867.0       01:00:00 2019-01-12  12-01-19   \n",
       "1        -3.6     1023.0         885.0       02:00:00 2019-01-12  12-01-19   \n",
       "2        -3.2     1022.0         890.0       03:00:00 2019-01-12  12-01-19   \n",
       "3        -3.4     1022.0         883.0       04:00:00 2019-01-12  12-01-19   \n",
       "4        -3.6     1022.0         891.0       05:00:00 2019-01-12  12-01-19   \n",
       "\n",
       "   Stundenzaehler DatumStundenzaehler      DatumFinal  \n",
       "0 0 days 01:00:00 2019-12-01 01:00:00  01-12-19 01:00  \n",
       "1 0 days 02:00:00 2019-12-01 02:00:00  01-12-19 02:00  \n",
       "2 0 days 03:00:00 2019-12-01 03:00:00  01-12-19 03:00  \n",
       "3 0 days 04:00:00 2019-12-01 04:00:00  01-12-19 04:00  \n",
       "4 0 days 05:00:00 2019-12-01 05:00:00  01-12-19 05:00  "
      ]
     },
     "execution_count": 22,
     "metadata": {},
     "output_type": "execute_result"
    }
   ],
   "source": [
    "df.head()"
   ]
  },
  {
   "cell_type": "markdown",
   "metadata": {
    "id": "krgEI2dWzLTT"
   },
   "source": [
    "Wir löschen die folgenden Spalten:"
   ]
  },
  {
   "cell_type": "code",
   "execution_count": 23,
   "metadata": {
    "id": "bKU-z8Y8zLYd"
   },
   "outputs": [],
   "source": [
    "df=df.drop(columns=['Datum', 'Zeit','Sekundenformat','Kohlendioxid (CO2)[mg/m³]','Temperatur[°C]','Luftdruck[hPa]','DatumYDM','DatumMDY','Stundenzaehler','DatumStundenzaehler'])"
   ]
  },
  {
   "cell_type": "code",
   "execution_count": 24,
   "metadata": {
    "colab": {
     "base_uri": "https://localhost:8080/",
     "height": 206
    },
    "id": "3XoYtOfBu0zE",
    "outputId": "bffb6e84-9b5c-4c3e-bbec-1aa5b457df48"
   },
   "outputs": [
    {
     "data": {
      "text/html": [
       "<div>\n",
       "<style scoped>\n",
       "    .dataframe tbody tr th:only-of-type {\n",
       "        vertical-align: middle;\n",
       "    }\n",
       "\n",
       "    .dataframe tbody tr th {\n",
       "        vertical-align: top;\n",
       "    }\n",
       "\n",
       "    .dataframe thead th {\n",
       "        text-align: right;\n",
       "    }\n",
       "</style>\n",
       "<table border=\"1\" class=\"dataframe\">\n",
       "  <thead>\n",
       "    <tr style=\"text-align: right;\">\n",
       "      <th></th>\n",
       "      <th>Temperatur</th>\n",
       "      <th>Luftdruck</th>\n",
       "      <th>Kohlendioxid</th>\n",
       "      <th>DatumFinal</th>\n",
       "    </tr>\n",
       "  </thead>\n",
       "  <tbody>\n",
       "    <tr>\n",
       "      <th>0</th>\n",
       "      <td>-3.5</td>\n",
       "      <td>1023.0</td>\n",
       "      <td>867.0</td>\n",
       "      <td>01-12-19 01:00</td>\n",
       "    </tr>\n",
       "    <tr>\n",
       "      <th>1</th>\n",
       "      <td>-3.6</td>\n",
       "      <td>1023.0</td>\n",
       "      <td>885.0</td>\n",
       "      <td>01-12-19 02:00</td>\n",
       "    </tr>\n",
       "    <tr>\n",
       "      <th>2</th>\n",
       "      <td>-3.2</td>\n",
       "      <td>1022.0</td>\n",
       "      <td>890.0</td>\n",
       "      <td>01-12-19 03:00</td>\n",
       "    </tr>\n",
       "    <tr>\n",
       "      <th>3</th>\n",
       "      <td>-3.4</td>\n",
       "      <td>1022.0</td>\n",
       "      <td>883.0</td>\n",
       "      <td>01-12-19 04:00</td>\n",
       "    </tr>\n",
       "    <tr>\n",
       "      <th>4</th>\n",
       "      <td>-3.6</td>\n",
       "      <td>1022.0</td>\n",
       "      <td>891.0</td>\n",
       "      <td>01-12-19 05:00</td>\n",
       "    </tr>\n",
       "  </tbody>\n",
       "</table>\n",
       "</div>"
      ],
      "text/plain": [
       "   Temperatur  Luftdruck  Kohlendioxid      DatumFinal\n",
       "0        -3.5     1023.0         867.0  01-12-19 01:00\n",
       "1        -3.6     1023.0         885.0  01-12-19 02:00\n",
       "2        -3.2     1022.0         890.0  01-12-19 03:00\n",
       "3        -3.4     1022.0         883.0  01-12-19 04:00\n",
       "4        -3.6     1022.0         891.0  01-12-19 05:00"
      ]
     },
     "execution_count": 24,
     "metadata": {},
     "output_type": "execute_result"
    }
   ],
   "source": [
    "df.head()"
   ]
  },
  {
   "cell_type": "markdown",
   "metadata": {
    "id": "5V5xLyfmzLd1"
   },
   "source": [
    "Wir nennen Spalte DatumFinal in Datum um"
   ]
  },
  {
   "cell_type": "code",
   "execution_count": 25,
   "metadata": {
    "id": "zmbsYdPqzLix"
   },
   "outputs": [],
   "source": [
    "df=df.rename(columns={'DatumFinal': 'Datum'})"
   ]
  },
  {
   "cell_type": "code",
   "execution_count": 26,
   "metadata": {
    "colab": {
     "base_uri": "https://localhost:8080/",
     "height": 206
    },
    "id": "v2hY0KmnwXyP",
    "outputId": "a8c7a073-94ef-4f62-d3ce-6c9b9fd86271"
   },
   "outputs": [
    {
     "data": {
      "text/html": [
       "<div>\n",
       "<style scoped>\n",
       "    .dataframe tbody tr th:only-of-type {\n",
       "        vertical-align: middle;\n",
       "    }\n",
       "\n",
       "    .dataframe tbody tr th {\n",
       "        vertical-align: top;\n",
       "    }\n",
       "\n",
       "    .dataframe thead th {\n",
       "        text-align: right;\n",
       "    }\n",
       "</style>\n",
       "<table border=\"1\" class=\"dataframe\">\n",
       "  <thead>\n",
       "    <tr style=\"text-align: right;\">\n",
       "      <th></th>\n",
       "      <th>Temperatur</th>\n",
       "      <th>Luftdruck</th>\n",
       "      <th>Kohlendioxid</th>\n",
       "      <th>Datum</th>\n",
       "    </tr>\n",
       "  </thead>\n",
       "  <tbody>\n",
       "    <tr>\n",
       "      <th>0</th>\n",
       "      <td>-3.5</td>\n",
       "      <td>1023.0</td>\n",
       "      <td>867.0</td>\n",
       "      <td>01-12-19 01:00</td>\n",
       "    </tr>\n",
       "    <tr>\n",
       "      <th>1</th>\n",
       "      <td>-3.6</td>\n",
       "      <td>1023.0</td>\n",
       "      <td>885.0</td>\n",
       "      <td>01-12-19 02:00</td>\n",
       "    </tr>\n",
       "    <tr>\n",
       "      <th>2</th>\n",
       "      <td>-3.2</td>\n",
       "      <td>1022.0</td>\n",
       "      <td>890.0</td>\n",
       "      <td>01-12-19 03:00</td>\n",
       "    </tr>\n",
       "    <tr>\n",
       "      <th>3</th>\n",
       "      <td>-3.4</td>\n",
       "      <td>1022.0</td>\n",
       "      <td>883.0</td>\n",
       "      <td>01-12-19 04:00</td>\n",
       "    </tr>\n",
       "    <tr>\n",
       "      <th>4</th>\n",
       "      <td>-3.6</td>\n",
       "      <td>1022.0</td>\n",
       "      <td>891.0</td>\n",
       "      <td>01-12-19 05:00</td>\n",
       "    </tr>\n",
       "  </tbody>\n",
       "</table>\n",
       "</div>"
      ],
      "text/plain": [
       "   Temperatur  Luftdruck  Kohlendioxid           Datum\n",
       "0        -3.5     1023.0         867.0  01-12-19 01:00\n",
       "1        -3.6     1023.0         885.0  01-12-19 02:00\n",
       "2        -3.2     1022.0         890.0  01-12-19 03:00\n",
       "3        -3.4     1022.0         883.0  01-12-19 04:00\n",
       "4        -3.6     1022.0         891.0  01-12-19 05:00"
      ]
     },
     "execution_count": 26,
     "metadata": {},
     "output_type": "execute_result"
    }
   ],
   "source": [
    "df.head()"
   ]
  },
  {
   "cell_type": "markdown",
   "metadata": {
    "id": "S0bXBlyPxCNk"
   },
   "source": [
    "Wir setzen Spalte Datum als Index, dadurch können wir die  Vorzüge der Datumsklasse nutzen.\n"
   ]
  },
  {
   "cell_type": "code",
   "execution_count": 27,
   "metadata": {
    "id": "ckq925F7xCWc"
   },
   "outputs": [],
   "source": [
    "df=df.set_index('Datum')"
   ]
  },
  {
   "cell_type": "code",
   "execution_count": 28,
   "metadata": {
    "colab": {
     "base_uri": "https://localhost:8080/",
     "height": 238
    },
    "id": "5vPh_gpLxNK0",
    "outputId": "f2a16926-c3df-4120-ccdf-c0b2c6174a5a"
   },
   "outputs": [
    {
     "data": {
      "text/html": [
       "<div>\n",
       "<style scoped>\n",
       "    .dataframe tbody tr th:only-of-type {\n",
       "        vertical-align: middle;\n",
       "    }\n",
       "\n",
       "    .dataframe tbody tr th {\n",
       "        vertical-align: top;\n",
       "    }\n",
       "\n",
       "    .dataframe thead th {\n",
       "        text-align: right;\n",
       "    }\n",
       "</style>\n",
       "<table border=\"1\" class=\"dataframe\">\n",
       "  <thead>\n",
       "    <tr style=\"text-align: right;\">\n",
       "      <th></th>\n",
       "      <th>Temperatur</th>\n",
       "      <th>Luftdruck</th>\n",
       "      <th>Kohlendioxid</th>\n",
       "    </tr>\n",
       "    <tr>\n",
       "      <th>Datum</th>\n",
       "      <th></th>\n",
       "      <th></th>\n",
       "      <th></th>\n",
       "    </tr>\n",
       "  </thead>\n",
       "  <tbody>\n",
       "    <tr>\n",
       "      <th>01-12-19 01:00</th>\n",
       "      <td>-3.5</td>\n",
       "      <td>1023.0</td>\n",
       "      <td>867.0</td>\n",
       "    </tr>\n",
       "    <tr>\n",
       "      <th>01-12-19 02:00</th>\n",
       "      <td>-3.6</td>\n",
       "      <td>1023.0</td>\n",
       "      <td>885.0</td>\n",
       "    </tr>\n",
       "    <tr>\n",
       "      <th>01-12-19 03:00</th>\n",
       "      <td>-3.2</td>\n",
       "      <td>1022.0</td>\n",
       "      <td>890.0</td>\n",
       "    </tr>\n",
       "    <tr>\n",
       "      <th>01-12-19 04:00</th>\n",
       "      <td>-3.4</td>\n",
       "      <td>1022.0</td>\n",
       "      <td>883.0</td>\n",
       "    </tr>\n",
       "    <tr>\n",
       "      <th>01-12-19 05:00</th>\n",
       "      <td>-3.6</td>\n",
       "      <td>1022.0</td>\n",
       "      <td>891.0</td>\n",
       "    </tr>\n",
       "  </tbody>\n",
       "</table>\n",
       "</div>"
      ],
      "text/plain": [
       "                Temperatur  Luftdruck  Kohlendioxid\n",
       "Datum                                              \n",
       "01-12-19 01:00        -3.5     1023.0         867.0\n",
       "01-12-19 02:00        -3.6     1023.0         885.0\n",
       "01-12-19 03:00        -3.2     1022.0         890.0\n",
       "01-12-19 04:00        -3.4     1022.0         883.0\n",
       "01-12-19 05:00        -3.6     1022.0         891.0"
      ]
     },
     "execution_count": 28,
     "metadata": {},
     "output_type": "execute_result"
    }
   ],
   "source": [
    "df.head()"
   ]
  },
  {
   "cell_type": "markdown",
   "metadata": {
    "id": "00hBVgl7xTvz"
   },
   "source": [
    "Das Ergebnis: Wir haben das Datum als nutzbares  Datumsformat umgewandelt. \n",
    "Die Temperatur, Luftdruck und Kohlendioxid sind im Zahlenformat und NaN Werte für fehlende Daten."
   ]
  },
  {
   "cell_type": "code",
   "execution_count": 29,
   "metadata": {
    "colab": {
     "base_uri": "https://localhost:8080/",
     "height": 455
    },
    "id": "fCMNgzVFxCdN",
    "outputId": "6454ee63-358e-4a27-aa91-caa6046cd913"
   },
   "outputs": [
    {
     "data": {
      "text/html": [
       "<div>\n",
       "<style scoped>\n",
       "    .dataframe tbody tr th:only-of-type {\n",
       "        vertical-align: middle;\n",
       "    }\n",
       "\n",
       "    .dataframe tbody tr th {\n",
       "        vertical-align: top;\n",
       "    }\n",
       "\n",
       "    .dataframe thead th {\n",
       "        text-align: right;\n",
       "    }\n",
       "</style>\n",
       "<table border=\"1\" class=\"dataframe\">\n",
       "  <thead>\n",
       "    <tr style=\"text-align: right;\">\n",
       "      <th></th>\n",
       "      <th>Temperatur</th>\n",
       "      <th>Luftdruck</th>\n",
       "      <th>Kohlendioxid</th>\n",
       "    </tr>\n",
       "    <tr>\n",
       "      <th>Datum</th>\n",
       "      <th></th>\n",
       "      <th></th>\n",
       "      <th></th>\n",
       "    </tr>\n",
       "  </thead>\n",
       "  <tbody>\n",
       "    <tr>\n",
       "      <th>01-12-19 01:00</th>\n",
       "      <td>-3.5</td>\n",
       "      <td>1023.0</td>\n",
       "      <td>867.0</td>\n",
       "    </tr>\n",
       "    <tr>\n",
       "      <th>01-12-19 02:00</th>\n",
       "      <td>-3.6</td>\n",
       "      <td>1023.0</td>\n",
       "      <td>885.0</td>\n",
       "    </tr>\n",
       "    <tr>\n",
       "      <th>01-12-19 03:00</th>\n",
       "      <td>-3.2</td>\n",
       "      <td>1022.0</td>\n",
       "      <td>890.0</td>\n",
       "    </tr>\n",
       "    <tr>\n",
       "      <th>01-12-19 04:00</th>\n",
       "      <td>-3.4</td>\n",
       "      <td>1022.0</td>\n",
       "      <td>883.0</td>\n",
       "    </tr>\n",
       "    <tr>\n",
       "      <th>01-12-19 05:00</th>\n",
       "      <td>-3.6</td>\n",
       "      <td>1022.0</td>\n",
       "      <td>891.0</td>\n",
       "    </tr>\n",
       "    <tr>\n",
       "      <th>...</th>\n",
       "      <td>...</td>\n",
       "      <td>...</td>\n",
       "      <td>...</td>\n",
       "    </tr>\n",
       "    <tr>\n",
       "      <th>21-05-20 20:00</th>\n",
       "      <td>NaN</td>\n",
       "      <td>NaN</td>\n",
       "      <td>NaN</td>\n",
       "    </tr>\n",
       "    <tr>\n",
       "      <th>21-05-20 21:00</th>\n",
       "      <td>NaN</td>\n",
       "      <td>NaN</td>\n",
       "      <td>NaN</td>\n",
       "    </tr>\n",
       "    <tr>\n",
       "      <th>21-05-20 22:00</th>\n",
       "      <td>NaN</td>\n",
       "      <td>NaN</td>\n",
       "      <td>NaN</td>\n",
       "    </tr>\n",
       "    <tr>\n",
       "      <th>21-05-20 23:00</th>\n",
       "      <td>NaN</td>\n",
       "      <td>NaN</td>\n",
       "      <td>NaN</td>\n",
       "    </tr>\n",
       "    <tr>\n",
       "      <th>22-05-20 00:00</th>\n",
       "      <td>NaN</td>\n",
       "      <td>NaN</td>\n",
       "      <td>NaN</td>\n",
       "    </tr>\n",
       "  </tbody>\n",
       "</table>\n",
       "<p>4152 rows × 3 columns</p>\n",
       "</div>"
      ],
      "text/plain": [
       "                Temperatur  Luftdruck  Kohlendioxid\n",
       "Datum                                              \n",
       "01-12-19 01:00        -3.5     1023.0         867.0\n",
       "01-12-19 02:00        -3.6     1023.0         885.0\n",
       "01-12-19 03:00        -3.2     1022.0         890.0\n",
       "01-12-19 04:00        -3.4     1022.0         883.0\n",
       "01-12-19 05:00        -3.6     1022.0         891.0\n",
       "...                    ...        ...           ...\n",
       "21-05-20 20:00         NaN        NaN           NaN\n",
       "21-05-20 21:00         NaN        NaN           NaN\n",
       "21-05-20 22:00         NaN        NaN           NaN\n",
       "21-05-20 23:00         NaN        NaN           NaN\n",
       "22-05-20 00:00         NaN        NaN           NaN\n",
       "\n",
       "[4152 rows x 3 columns]"
      ]
     },
     "execution_count": 29,
     "metadata": {},
     "output_type": "execute_result"
    }
   ],
   "source": [
    "df"
   ]
  },
  {
   "cell_type": "code",
   "execution_count": 30,
   "metadata": {
    "colab": {
     "base_uri": "https://localhost:8080/"
    },
    "id": "zqxFsa8g2m2t",
    "outputId": "56777838-d24b-4b23-a0f7-9a7913fd9bd0"
   },
   "outputs": [
    {
     "data": {
      "text/plain": [
       "Temperatur      float64\n",
       "Luftdruck       float64\n",
       "Kohlendioxid    float64\n",
       "dtype: object"
      ]
     },
     "execution_count": 30,
     "metadata": {},
     "output_type": "execute_result"
    }
   ],
   "source": [
    " df.dtypes"
   ]
  },
  {
   "cell_type": "code",
   "execution_count": null,
   "metadata": {},
   "outputs": [],
   "source": []
  }
 ],
 "metadata": {
  "colab": {
   "collapsed_sections": [],
   "name": "Der Kohlendioxidgehalt in Hessen Teil I.ipynb",
   "provenance": []
  },
  "kernelspec": {
   "display_name": "Python 3",
   "language": "python",
   "name": "python3"
  },
  "language_info": {
   "codemirror_mode": {
    "name": "ipython",
    "version": 3
   },
   "file_extension": ".py",
   "mimetype": "text/x-python",
   "name": "python",
   "nbconvert_exporter": "python",
   "pygments_lexer": "ipython3",
   "version": "3.7.6"
  }
 },
 "nbformat": 4,
 "nbformat_minor": 1
}
