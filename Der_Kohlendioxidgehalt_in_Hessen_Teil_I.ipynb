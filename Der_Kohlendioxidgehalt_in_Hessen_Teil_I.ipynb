{
  "nbformat": 4,
  "nbformat_minor": 0,
  "metadata": {
    "colab": {
      "name": "Der Kohlendioxidgehalt in Hessen Teil I.ipynb",
      "provenance": [],
      "collapsed_sections": []
    },
    "kernelspec": {
      "name": "python3",
      "display_name": "Python 3"
    }
  },
  "cells": [
    {
      "cell_type": "markdown",
      "metadata": {
        "id": "WL6U_HjV6rHW"
      },
      "source": [
        "#Der Kohlendioxidgehalt in Hessen Teil 1\n",
        "\n",
        "Die Rohdaten stellen uns vor folgenden Aufgaben:\n",
        "1. Den Datentyp müssen wir von Objekt in Zahlen umwandeln.\n",
        "2. Die Datumspalte und Zeitspalte in ein Datumsformat bringen (\"%d-%m-%y %H:%M\")."
      ]
    },
    {
      "cell_type": "code",
      "metadata": {
        "id": "ckjdBNEK6_d7",
        "colab": {
          "base_uri": "https://localhost:8080/"
        },
        "outputId": "709008b1-25c2-40a7-d311-900f10c19965"
      },
      "source": [
        "from google.colab import drive\n",
        "drive.mount('/content/drive')"
      ],
      "execution_count": null,
      "outputs": [
        {
          "output_type": "stream",
          "text": [
            "Drive already mounted at /content/drive; to attempt to forcibly remount, call drive.mount(\"/content/drive\", force_remount=True).\n"
          ],
          "name": "stdout"
        }
      ]
    },
    {
      "cell_type": "code",
      "metadata": {
        "colab": {
          "base_uri": "https://localhost:8080/"
        },
        "id": "vkZhLQ8k3FkZ",
        "outputId": "9fab030b-6e1c-4e64-dfc8-2578ba1edd8d"
      },
      "source": [
        "!ls '/content/drive/MyDrive/data'\r\n"
      ],
      "execution_count": null,
      "outputs": [
        {
          "output_type": "stream",
          "text": [
            "messwerteb.txt\tmesswertec.txt\tmesswerted.txt\n"
          ],
          "name": "stdout"
        }
      ]
    },
    {
      "cell_type": "markdown",
      "metadata": {
        "id": "RWAjO4pf07vx"
      },
      "source": [
        "Pandas ist ein Framework.  Hauptbestandteil ist die Klasse DataFrame, mit der sich zweidimensionale Tabellen, die aus Zeilen und Spalten bestehen, aufbereiten und umarbeiten lassen.\r\n",
        "\r\n",
        "Wir laden die pandas Bibliothek und kürzen sie mit pd ab.\r\n",
        "\r\n",
        "\r\n"
      ]
    },
    {
      "cell_type": "code",
      "metadata": {
        "id": "MByLRqvZ0LWS"
      },
      "source": [
        "import pandas as pd"
      ],
      "execution_count": null,
      "outputs": []
    },
    {
      "cell_type": "markdown",
      "metadata": {
        "id": "7fXP5_xt2CTX"
      },
      "source": [
        "Die Datei *messwerte.txt*  liefert uns Hinweise, wie wir die Datei in Python laden.\r\n",
        "\r\n",
        "**Dezimaltrennzeichen**\r\n",
        "\r\n",
        "Deutschland verwendet ein Komma (,) als **Dezimaltrennzeichen**.\r\n",
        "\r\n",
        "**Feldtrennzeichen** \r\n",
        "\r\n",
        "Die meisten europäischen Länder, trennen mit ';'' anstatt ',' und das Dezimaltrennzeichen ist ',' statt '.'\r\n",
        " \r\n",
        "Die Messdaten einlesen (pd.read_csv) und die Zellen mit ';' trennen. Dezimaltrennzeichen ',' ( sep=';' , decimal=',').\r\n"
      ]
    },
    {
      "cell_type": "markdown",
      "metadata": {
        "id": "B14MCz8rTMdm"
      },
      "source": [
        "Datum;Zeit;Kohlendioxid (CO2)[mg/m³];Temperatur[°C];Luftdruck[hPa]\r\n",
        "\r\n",
        "01.12.2019;01:00;867;-3,5;1023\r\n",
        "\r\n",
        "01.12.2019;02:00;885;-3,6;1023\r\n",
        "\r\n"
      ]
    },
    {
      "cell_type": "code",
      "metadata": {
        "id": "-m3A3Vu606oZ"
      },
      "source": [
        "df= pd.read_csv('/content/drive/MyDrive/data/messwerteb.txt', sep=';' ,decimal=',')"
      ],
      "execution_count": null,
      "outputs": []
    },
    {
      "cell_type": "markdown",
      "metadata": {
        "id": "9OPIaeAG-p97"
      },
      "source": [
        "Mit der head-Methode erhalten wir eine Übersicht über die ersten fünf Zeilen. "
      ]
    },
    {
      "cell_type": "code",
      "metadata": {
        "id": "jb6GGsJI06rf",
        "colab": {
          "base_uri": "https://localhost:8080/",
          "height": 206
        },
        "outputId": "627648f4-ce21-4c44-db63-449716d547bf"
      },
      "source": [
        "df.head()"
      ],
      "execution_count": null,
      "outputs": [
        {
          "output_type": "execute_result",
          "data": {
            "text/html": [
              "<div>\n",
              "<style scoped>\n",
              "    .dataframe tbody tr th:only-of-type {\n",
              "        vertical-align: middle;\n",
              "    }\n",
              "\n",
              "    .dataframe tbody tr th {\n",
              "        vertical-align: top;\n",
              "    }\n",
              "\n",
              "    .dataframe thead th {\n",
              "        text-align: right;\n",
              "    }\n",
              "</style>\n",
              "<table border=\"1\" class=\"dataframe\">\n",
              "  <thead>\n",
              "    <tr style=\"text-align: right;\">\n",
              "      <th></th>\n",
              "      <th>Datum</th>\n",
              "      <th>Zeit</th>\n",
              "      <th>Kohlendioxid (CO2)[mg/m³]</th>\n",
              "      <th>Temperatur[°C]</th>\n",
              "      <th>Luftdruck[hPa]</th>\n",
              "    </tr>\n",
              "  </thead>\n",
              "  <tbody>\n",
              "    <tr>\n",
              "      <th>0</th>\n",
              "      <td>01.12.2019</td>\n",
              "      <td>01:00</td>\n",
              "      <td>867</td>\n",
              "      <td>-3,5</td>\n",
              "      <td>1023</td>\n",
              "    </tr>\n",
              "    <tr>\n",
              "      <th>1</th>\n",
              "      <td>01.12.2019</td>\n",
              "      <td>02:00</td>\n",
              "      <td>885</td>\n",
              "      <td>-3,6</td>\n",
              "      <td>1023</td>\n",
              "    </tr>\n",
              "    <tr>\n",
              "      <th>2</th>\n",
              "      <td>01.12.2019</td>\n",
              "      <td>03:00</td>\n",
              "      <td>890</td>\n",
              "      <td>-3,2</td>\n",
              "      <td>1022</td>\n",
              "    </tr>\n",
              "    <tr>\n",
              "      <th>3</th>\n",
              "      <td>01.12.2019</td>\n",
              "      <td>04:00</td>\n",
              "      <td>883</td>\n",
              "      <td>-3,4</td>\n",
              "      <td>1022</td>\n",
              "    </tr>\n",
              "    <tr>\n",
              "      <th>4</th>\n",
              "      <td>01.12.2019</td>\n",
              "      <td>05:00</td>\n",
              "      <td>891</td>\n",
              "      <td>-3,6</td>\n",
              "      <td>1022</td>\n",
              "    </tr>\n",
              "  </tbody>\n",
              "</table>\n",
              "</div>"
            ],
            "text/plain": [
              "        Datum   Zeit Kohlendioxid (CO2)[mg/m³] Temperatur[°C] Luftdruck[hPa]\n",
              "0  01.12.2019  01:00                       867           -3,5           1023\n",
              "1  01.12.2019  02:00                       885           -3,6           1023\n",
              "2  01.12.2019  03:00                       890           -3,2           1022\n",
              "3  01.12.2019  04:00                       883           -3,4           1022\n",
              "4  01.12.2019  05:00                       891           -3,6           1022"
            ]
          },
          "metadata": {
            "tags": []
          },
          "execution_count": 5
        }
      ]
    },
    {
      "cell_type": "markdown",
      "metadata": {
        "id": "kaKiKAL7_JHn"
      },
      "source": [
        "Beim Einlesen von Daten versucht Pandas, die Daten automatisch in ein Zahlenformat (Integer oder Floats) zu konvertieren. Mit df.dtypes erhalten wir den entsprechenden Datentyp. Für die Messparameter und das Datum ist das nicht gelungen. Für die Verarbeitungsschritte, die uns noch bevorstehen, ist dieses Format ungeeignet. "
      ]
    },
    {
      "cell_type": "code",
      "metadata": {
        "colab": {
          "base_uri": "https://localhost:8080/"
        },
        "id": "55D0caST6cmD",
        "outputId": "e02b8bf1-ec46-4e59-bcbe-255c84fcd31f"
      },
      "source": [
        "df.dtypes"
      ],
      "execution_count": null,
      "outputs": [
        {
          "output_type": "execute_result",
          "data": {
            "text/plain": [
              "Datum                        object\n",
              "Zeit                         object\n",
              "Kohlendioxid (CO2)[mg/m³]    object\n",
              "Temperatur[°C]               object\n",
              "Luftdruck[hPa]               object\n",
              "dtype: object"
            ]
          },
          "metadata": {
            "tags": []
          },
          "execution_count": 6
        }
      ]
    },
    {
      "cell_type": "markdown",
      "metadata": {
        "id": "U2WmkSJUdt7W"
      },
      "source": [
        "Wir tauschen die Dezimaltrennzeichen in Spalte Temperatur[°C]  ',' mit '.' und erstellen eine neue Spalte Temperatur (df['Temperatur'])."
      ]
    },
    {
      "cell_type": "code",
      "metadata": {
        "id": "zUk80xD0dufh"
      },
      "source": [
        "\r\n",
        "df['Temperatur'] = [x.replace(',', '.') for x in df['Temperatur[°C]']]"
      ],
      "execution_count": null,
      "outputs": []
    },
    {
      "cell_type": "code",
      "metadata": {
        "colab": {
          "base_uri": "https://localhost:8080/",
          "height": 206
        },
        "id": "EG_A_djbeNZU",
        "outputId": "eaea1dbd-d5ba-4c48-f1b6-feff5f936141"
      },
      "source": [
        "df.head()"
      ],
      "execution_count": null,
      "outputs": [
        {
          "output_type": "execute_result",
          "data": {
            "text/html": [
              "<div>\n",
              "<style scoped>\n",
              "    .dataframe tbody tr th:only-of-type {\n",
              "        vertical-align: middle;\n",
              "    }\n",
              "\n",
              "    .dataframe tbody tr th {\n",
              "        vertical-align: top;\n",
              "    }\n",
              "\n",
              "    .dataframe thead th {\n",
              "        text-align: right;\n",
              "    }\n",
              "</style>\n",
              "<table border=\"1\" class=\"dataframe\">\n",
              "  <thead>\n",
              "    <tr style=\"text-align: right;\">\n",
              "      <th></th>\n",
              "      <th>Datum</th>\n",
              "      <th>Zeit</th>\n",
              "      <th>Kohlendioxid (CO2)[mg/m³]</th>\n",
              "      <th>Temperatur[°C]</th>\n",
              "      <th>Luftdruck[hPa]</th>\n",
              "      <th>Temperatur</th>\n",
              "    </tr>\n",
              "  </thead>\n",
              "  <tbody>\n",
              "    <tr>\n",
              "      <th>0</th>\n",
              "      <td>01.12.2019</td>\n",
              "      <td>01:00</td>\n",
              "      <td>867</td>\n",
              "      <td>-3,5</td>\n",
              "      <td>1023</td>\n",
              "      <td>-3.5</td>\n",
              "    </tr>\n",
              "    <tr>\n",
              "      <th>1</th>\n",
              "      <td>01.12.2019</td>\n",
              "      <td>02:00</td>\n",
              "      <td>885</td>\n",
              "      <td>-3,6</td>\n",
              "      <td>1023</td>\n",
              "      <td>-3.6</td>\n",
              "    </tr>\n",
              "    <tr>\n",
              "      <th>2</th>\n",
              "      <td>01.12.2019</td>\n",
              "      <td>03:00</td>\n",
              "      <td>890</td>\n",
              "      <td>-3,2</td>\n",
              "      <td>1022</td>\n",
              "      <td>-3.2</td>\n",
              "    </tr>\n",
              "    <tr>\n",
              "      <th>3</th>\n",
              "      <td>01.12.2019</td>\n",
              "      <td>04:00</td>\n",
              "      <td>883</td>\n",
              "      <td>-3,4</td>\n",
              "      <td>1022</td>\n",
              "      <td>-3.4</td>\n",
              "    </tr>\n",
              "    <tr>\n",
              "      <th>4</th>\n",
              "      <td>01.12.2019</td>\n",
              "      <td>05:00</td>\n",
              "      <td>891</td>\n",
              "      <td>-3,6</td>\n",
              "      <td>1022</td>\n",
              "      <td>-3.6</td>\n",
              "    </tr>\n",
              "  </tbody>\n",
              "</table>\n",
              "</div>"
            ],
            "text/plain": [
              "        Datum   Zeit  ... Luftdruck[hPa] Temperatur\n",
              "0  01.12.2019  01:00  ...           1023       -3.5\n",
              "1  01.12.2019  02:00  ...           1023       -3.6\n",
              "2  01.12.2019  03:00  ...           1022       -3.2\n",
              "3  01.12.2019  04:00  ...           1022       -3.4\n",
              "4  01.12.2019  05:00  ...           1022       -3.6\n",
              "\n",
              "[5 rows x 6 columns]"
            ]
          },
          "metadata": {
            "tags": []
          },
          "execution_count": 8
        }
      ]
    },
    {
      "cell_type": "markdown",
      "metadata": {
        "id": "0EwpXhcTdunl"
      },
      "source": [
        "Wir wandeln die Datenreihe Luftdruck[hPa], Temperatur und Kohlendioxid (CO2)[mg/m³] von object zu float um, und erstellen neue Spalten namens Luftdruck, Temperatur und Kohlendioxid.\r\n",
        "\r\n",
        "WICHTIG: errors='coerce' wandelt '-' und alle weiteren Zeichen zu NaN um."
      ]
    },
    {
      "cell_type": "code",
      "metadata": {
        "id": "-NqH-LU_duuZ"
      },
      "source": [
        "df['Luftdruck'] = pd.to_numeric(df['Luftdruck[hPa]'], errors='coerce')\r\n",
        "\r\n",
        "df['Temperatur'] = pd.to_numeric(df['Temperatur'], errors='coerce')\r\n",
        "\r\n",
        "df['Kohlendioxid'] = pd.to_numeric(df['Kohlendioxid (CO2)[mg/m³]'], errors='coerce')"
      ],
      "execution_count": null,
      "outputs": []
    },
    {
      "cell_type": "code",
      "metadata": {
        "colab": {
          "base_uri": "https://localhost:8080/",
          "height": 206
        },
        "id": "k88RADmgflmF",
        "outputId": "4610334a-d752-4907-a277-8d5e18f78287"
      },
      "source": [
        "df.head()"
      ],
      "execution_count": null,
      "outputs": [
        {
          "output_type": "execute_result",
          "data": {
            "text/html": [
              "<div>\n",
              "<style scoped>\n",
              "    .dataframe tbody tr th:only-of-type {\n",
              "        vertical-align: middle;\n",
              "    }\n",
              "\n",
              "    .dataframe tbody tr th {\n",
              "        vertical-align: top;\n",
              "    }\n",
              "\n",
              "    .dataframe thead th {\n",
              "        text-align: right;\n",
              "    }\n",
              "</style>\n",
              "<table border=\"1\" class=\"dataframe\">\n",
              "  <thead>\n",
              "    <tr style=\"text-align: right;\">\n",
              "      <th></th>\n",
              "      <th>Datum</th>\n",
              "      <th>Zeit</th>\n",
              "      <th>Kohlendioxid (CO2)[mg/m³]</th>\n",
              "      <th>Temperatur[°C]</th>\n",
              "      <th>Luftdruck[hPa]</th>\n",
              "      <th>Temperatur</th>\n",
              "      <th>Luftdruck</th>\n",
              "      <th>Kohlendioxid</th>\n",
              "    </tr>\n",
              "  </thead>\n",
              "  <tbody>\n",
              "    <tr>\n",
              "      <th>0</th>\n",
              "      <td>01.12.2019</td>\n",
              "      <td>01:00</td>\n",
              "      <td>867</td>\n",
              "      <td>-3,5</td>\n",
              "      <td>1023</td>\n",
              "      <td>-3.5</td>\n",
              "      <td>1023.0</td>\n",
              "      <td>867.0</td>\n",
              "    </tr>\n",
              "    <tr>\n",
              "      <th>1</th>\n",
              "      <td>01.12.2019</td>\n",
              "      <td>02:00</td>\n",
              "      <td>885</td>\n",
              "      <td>-3,6</td>\n",
              "      <td>1023</td>\n",
              "      <td>-3.6</td>\n",
              "      <td>1023.0</td>\n",
              "      <td>885.0</td>\n",
              "    </tr>\n",
              "    <tr>\n",
              "      <th>2</th>\n",
              "      <td>01.12.2019</td>\n",
              "      <td>03:00</td>\n",
              "      <td>890</td>\n",
              "      <td>-3,2</td>\n",
              "      <td>1022</td>\n",
              "      <td>-3.2</td>\n",
              "      <td>1022.0</td>\n",
              "      <td>890.0</td>\n",
              "    </tr>\n",
              "    <tr>\n",
              "      <th>3</th>\n",
              "      <td>01.12.2019</td>\n",
              "      <td>04:00</td>\n",
              "      <td>883</td>\n",
              "      <td>-3,4</td>\n",
              "      <td>1022</td>\n",
              "      <td>-3.4</td>\n",
              "      <td>1022.0</td>\n",
              "      <td>883.0</td>\n",
              "    </tr>\n",
              "    <tr>\n",
              "      <th>4</th>\n",
              "      <td>01.12.2019</td>\n",
              "      <td>05:00</td>\n",
              "      <td>891</td>\n",
              "      <td>-3,6</td>\n",
              "      <td>1022</td>\n",
              "      <td>-3.6</td>\n",
              "      <td>1022.0</td>\n",
              "      <td>891.0</td>\n",
              "    </tr>\n",
              "  </tbody>\n",
              "</table>\n",
              "</div>"
            ],
            "text/plain": [
              "        Datum   Zeit  ... Luftdruck Kohlendioxid\n",
              "0  01.12.2019  01:00  ...    1023.0        867.0\n",
              "1  01.12.2019  02:00  ...    1023.0        885.0\n",
              "2  01.12.2019  03:00  ...    1022.0        890.0\n",
              "3  01.12.2019  04:00  ...    1022.0        883.0\n",
              "4  01.12.2019  05:00  ...    1022.0        891.0\n",
              "\n",
              "[5 rows x 8 columns]"
            ]
          },
          "metadata": {
            "tags": []
          },
          "execution_count": 10
        }
      ]
    },
    {
      "cell_type": "code",
      "metadata": {
        "colab": {
          "base_uri": "https://localhost:8080/",
          "height": 206
        },
        "id": "mpB6RnRFgPDt",
        "outputId": "85262eef-a57b-4b50-cb00-cbcfcf040ffe"
      },
      "source": [
        "df.tail()"
      ],
      "execution_count": null,
      "outputs": [
        {
          "output_type": "execute_result",
          "data": {
            "text/html": [
              "<div>\n",
              "<style scoped>\n",
              "    .dataframe tbody tr th:only-of-type {\n",
              "        vertical-align: middle;\n",
              "    }\n",
              "\n",
              "    .dataframe tbody tr th {\n",
              "        vertical-align: top;\n",
              "    }\n",
              "\n",
              "    .dataframe thead th {\n",
              "        text-align: right;\n",
              "    }\n",
              "</style>\n",
              "<table border=\"1\" class=\"dataframe\">\n",
              "  <thead>\n",
              "    <tr style=\"text-align: right;\">\n",
              "      <th></th>\n",
              "      <th>Datum</th>\n",
              "      <th>Zeit</th>\n",
              "      <th>Kohlendioxid (CO2)[mg/m³]</th>\n",
              "      <th>Temperatur[°C]</th>\n",
              "      <th>Luftdruck[hPa]</th>\n",
              "      <th>Temperatur</th>\n",
              "      <th>Luftdruck</th>\n",
              "      <th>Kohlendioxid</th>\n",
              "    </tr>\n",
              "  </thead>\n",
              "  <tbody>\n",
              "    <tr>\n",
              "      <th>4147</th>\n",
              "      <td>21.05.2020</td>\n",
              "      <td>20:00</td>\n",
              "      <td>-</td>\n",
              "      <td>-</td>\n",
              "      <td>-</td>\n",
              "      <td>NaN</td>\n",
              "      <td>NaN</td>\n",
              "      <td>NaN</td>\n",
              "    </tr>\n",
              "    <tr>\n",
              "      <th>4148</th>\n",
              "      <td>21.05.2020</td>\n",
              "      <td>21:00</td>\n",
              "      <td>-</td>\n",
              "      <td>-</td>\n",
              "      <td>-</td>\n",
              "      <td>NaN</td>\n",
              "      <td>NaN</td>\n",
              "      <td>NaN</td>\n",
              "    </tr>\n",
              "    <tr>\n",
              "      <th>4149</th>\n",
              "      <td>21.05.2020</td>\n",
              "      <td>22:00</td>\n",
              "      <td>-</td>\n",
              "      <td>-</td>\n",
              "      <td>-</td>\n",
              "      <td>NaN</td>\n",
              "      <td>NaN</td>\n",
              "      <td>NaN</td>\n",
              "    </tr>\n",
              "    <tr>\n",
              "      <th>4150</th>\n",
              "      <td>21.05.2020</td>\n",
              "      <td>23:00</td>\n",
              "      <td>-</td>\n",
              "      <td>-</td>\n",
              "      <td>-</td>\n",
              "      <td>NaN</td>\n",
              "      <td>NaN</td>\n",
              "      <td>NaN</td>\n",
              "    </tr>\n",
              "    <tr>\n",
              "      <th>4151</th>\n",
              "      <td>21.05.2020</td>\n",
              "      <td>24:00</td>\n",
              "      <td>-</td>\n",
              "      <td>-</td>\n",
              "      <td>-</td>\n",
              "      <td>NaN</td>\n",
              "      <td>NaN</td>\n",
              "      <td>NaN</td>\n",
              "    </tr>\n",
              "  </tbody>\n",
              "</table>\n",
              "</div>"
            ],
            "text/plain": [
              "           Datum   Zeit  ... Luftdruck Kohlendioxid\n",
              "4147  21.05.2020  20:00  ...       NaN          NaN\n",
              "4148  21.05.2020  21:00  ...       NaN          NaN\n",
              "4149  21.05.2020  22:00  ...       NaN          NaN\n",
              "4150  21.05.2020  23:00  ...       NaN          NaN\n",
              "4151  21.05.2020  24:00  ...       NaN          NaN\n",
              "\n",
              "[5 rows x 8 columns]"
            ]
          },
          "metadata": {
            "tags": []
          },
          "execution_count": 11
        }
      ]
    },
    {
      "cell_type": "code",
      "metadata": {
        "colab": {
          "base_uri": "https://localhost:8080/"
        },
        "id": "ILPsuR64frIv",
        "outputId": "475ba168-99ae-49df-8382-0da65bfd09d7"
      },
      "source": [
        "df.dtypes"
      ],
      "execution_count": null,
      "outputs": [
        {
          "output_type": "execute_result",
          "data": {
            "text/plain": [
              "Datum                         object\n",
              "Zeit                          object\n",
              "Kohlendioxid (CO2)[mg/m³]     object\n",
              "Temperatur[°C]                object\n",
              "Luftdruck[hPa]                object\n",
              "Temperatur                   float64\n",
              "Luftdruck                    float64\n",
              "Kohlendioxid                 float64\n",
              "dtype: object"
            ]
          },
          "metadata": {
            "tags": []
          },
          "execution_count": 12
        }
      ]
    },
    {
      "cell_type": "markdown",
      "metadata": {
        "id": "-AvQiKOtdu1Z"
      },
      "source": [
        "Für die weitere Verarbeitung der Daten brauchen wir ein bestimmtes **Datumsformat**. Zum Beispiel für FP Prophet.\r\n",
        "\r\n",
        "Wir addieren zur Spalte 'Zeit' :00 und fügen eine neue Spalte \r\n",
        "'Sekundenformat' hinzu, ohne Sekundenformat gibt es eine Fehlermeldung, z.B. bei FP Prophet.\r\n"
      ]
    },
    {
      "cell_type": "code",
      "metadata": {
        "id": "aiAnnhrBdu71"
      },
      "source": [
        "df['Sekundenformat'] = df['Zeit'] + ':00'"
      ],
      "execution_count": null,
      "outputs": []
    },
    {
      "cell_type": "code",
      "metadata": {
        "colab": {
          "base_uri": "https://localhost:8080/",
          "height": 206
        },
        "id": "UrV-8Xmvjqjv",
        "outputId": "0dea2fc8-cda5-4d72-bbbe-8f550254431e"
      },
      "source": [
        "df.head()"
      ],
      "execution_count": null,
      "outputs": [
        {
          "output_type": "execute_result",
          "data": {
            "text/html": [
              "<div>\n",
              "<style scoped>\n",
              "    .dataframe tbody tr th:only-of-type {\n",
              "        vertical-align: middle;\n",
              "    }\n",
              "\n",
              "    .dataframe tbody tr th {\n",
              "        vertical-align: top;\n",
              "    }\n",
              "\n",
              "    .dataframe thead th {\n",
              "        text-align: right;\n",
              "    }\n",
              "</style>\n",
              "<table border=\"1\" class=\"dataframe\">\n",
              "  <thead>\n",
              "    <tr style=\"text-align: right;\">\n",
              "      <th></th>\n",
              "      <th>Datum</th>\n",
              "      <th>Zeit</th>\n",
              "      <th>Kohlendioxid (CO2)[mg/m³]</th>\n",
              "      <th>Temperatur[°C]</th>\n",
              "      <th>Luftdruck[hPa]</th>\n",
              "      <th>Temperatur</th>\n",
              "      <th>Luftdruck</th>\n",
              "      <th>Kohlendioxid</th>\n",
              "      <th>Sekundenformat</th>\n",
              "    </tr>\n",
              "  </thead>\n",
              "  <tbody>\n",
              "    <tr>\n",
              "      <th>0</th>\n",
              "      <td>01.12.2019</td>\n",
              "      <td>01:00</td>\n",
              "      <td>867</td>\n",
              "      <td>-3,5</td>\n",
              "      <td>1023</td>\n",
              "      <td>-3.5</td>\n",
              "      <td>1023.0</td>\n",
              "      <td>867.0</td>\n",
              "      <td>01:00:00</td>\n",
              "    </tr>\n",
              "    <tr>\n",
              "      <th>1</th>\n",
              "      <td>01.12.2019</td>\n",
              "      <td>02:00</td>\n",
              "      <td>885</td>\n",
              "      <td>-3,6</td>\n",
              "      <td>1023</td>\n",
              "      <td>-3.6</td>\n",
              "      <td>1023.0</td>\n",
              "      <td>885.0</td>\n",
              "      <td>02:00:00</td>\n",
              "    </tr>\n",
              "    <tr>\n",
              "      <th>2</th>\n",
              "      <td>01.12.2019</td>\n",
              "      <td>03:00</td>\n",
              "      <td>890</td>\n",
              "      <td>-3,2</td>\n",
              "      <td>1022</td>\n",
              "      <td>-3.2</td>\n",
              "      <td>1022.0</td>\n",
              "      <td>890.0</td>\n",
              "      <td>03:00:00</td>\n",
              "    </tr>\n",
              "    <tr>\n",
              "      <th>3</th>\n",
              "      <td>01.12.2019</td>\n",
              "      <td>04:00</td>\n",
              "      <td>883</td>\n",
              "      <td>-3,4</td>\n",
              "      <td>1022</td>\n",
              "      <td>-3.4</td>\n",
              "      <td>1022.0</td>\n",
              "      <td>883.0</td>\n",
              "      <td>04:00:00</td>\n",
              "    </tr>\n",
              "    <tr>\n",
              "      <th>4</th>\n",
              "      <td>01.12.2019</td>\n",
              "      <td>05:00</td>\n",
              "      <td>891</td>\n",
              "      <td>-3,6</td>\n",
              "      <td>1022</td>\n",
              "      <td>-3.6</td>\n",
              "      <td>1022.0</td>\n",
              "      <td>891.0</td>\n",
              "      <td>05:00:00</td>\n",
              "    </tr>\n",
              "  </tbody>\n",
              "</table>\n",
              "</div>"
            ],
            "text/plain": [
              "        Datum   Zeit  ... Kohlendioxid Sekundenformat\n",
              "0  01.12.2019  01:00  ...        867.0       01:00:00\n",
              "1  01.12.2019  02:00  ...        885.0       02:00:00\n",
              "2  01.12.2019  03:00  ...        890.0       03:00:00\n",
              "3  01.12.2019  04:00  ...        883.0       04:00:00\n",
              "4  01.12.2019  05:00  ...        891.0       05:00:00\n",
              "\n",
              "[5 rows x 9 columns]"
            ]
          },
          "metadata": {
            "tags": []
          },
          "execution_count": 14
        }
      ]
    },
    {
      "cell_type": "markdown",
      "metadata": {
        "id": "Btl40W9Ujpyx"
      },
      "source": [
        "Dieser Weg verursachte einen Fehler: \r\n",
        "Monat und Tag zu Beginn richtig aber zum Schluß falsch:\r\n",
        "df['Datum2']=pd.to_datetime(df.Datum) + pd.to_timedelta(df.period)\r\n",
        "\r\n",
        "df[\"Date\"] = df[\"Datum2\"].apply(lambda x: datetime.combine(x, datetime.min.time()))\r\n",
        "\r\n",
        "df[\"Date\"] = df[\"Datum\"].dt.strftime(\"%d-%m-%y %H:%M\")"
      ]
    },
    {
      "cell_type": "markdown",
      "metadata": {
        "id": "JRgG3k6BdvDk"
      },
      "source": [
        "Wir nutzen die Pandas-Funktion **to_datetime**. Um datumsspezifische Operationen durchführen zu können."
      ]
    },
    {
      "cell_type": "code",
      "metadata": {
        "id": "dkirx0AkdvJ0"
      },
      "source": [
        "df['DatumYDM']=pd.to_datetime(df.Datum)"
      ],
      "execution_count": null,
      "outputs": []
    },
    {
      "cell_type": "code",
      "metadata": {
        "colab": {
          "base_uri": "https://localhost:8080/",
          "height": 206
        },
        "id": "mkQPo3zNpLyt",
        "outputId": "74b3d194-3ee6-4018-d971-383f7214cd2c"
      },
      "source": [
        "df.head()"
      ],
      "execution_count": null,
      "outputs": [
        {
          "output_type": "execute_result",
          "data": {
            "text/html": [
              "<div>\n",
              "<style scoped>\n",
              "    .dataframe tbody tr th:only-of-type {\n",
              "        vertical-align: middle;\n",
              "    }\n",
              "\n",
              "    .dataframe tbody tr th {\n",
              "        vertical-align: top;\n",
              "    }\n",
              "\n",
              "    .dataframe thead th {\n",
              "        text-align: right;\n",
              "    }\n",
              "</style>\n",
              "<table border=\"1\" class=\"dataframe\">\n",
              "  <thead>\n",
              "    <tr style=\"text-align: right;\">\n",
              "      <th></th>\n",
              "      <th>Datum</th>\n",
              "      <th>Zeit</th>\n",
              "      <th>Kohlendioxid (CO2)[mg/m³]</th>\n",
              "      <th>Temperatur[°C]</th>\n",
              "      <th>Luftdruck[hPa]</th>\n",
              "      <th>Temperatur</th>\n",
              "      <th>Luftdruck</th>\n",
              "      <th>Kohlendioxid</th>\n",
              "      <th>Sekundenformat</th>\n",
              "      <th>DatumYDM</th>\n",
              "    </tr>\n",
              "  </thead>\n",
              "  <tbody>\n",
              "    <tr>\n",
              "      <th>0</th>\n",
              "      <td>01.12.2019</td>\n",
              "      <td>01:00</td>\n",
              "      <td>867</td>\n",
              "      <td>-3,5</td>\n",
              "      <td>1023</td>\n",
              "      <td>-3.5</td>\n",
              "      <td>1023.0</td>\n",
              "      <td>867.0</td>\n",
              "      <td>01:00:00</td>\n",
              "      <td>2019-01-12</td>\n",
              "    </tr>\n",
              "    <tr>\n",
              "      <th>1</th>\n",
              "      <td>01.12.2019</td>\n",
              "      <td>02:00</td>\n",
              "      <td>885</td>\n",
              "      <td>-3,6</td>\n",
              "      <td>1023</td>\n",
              "      <td>-3.6</td>\n",
              "      <td>1023.0</td>\n",
              "      <td>885.0</td>\n",
              "      <td>02:00:00</td>\n",
              "      <td>2019-01-12</td>\n",
              "    </tr>\n",
              "    <tr>\n",
              "      <th>2</th>\n",
              "      <td>01.12.2019</td>\n",
              "      <td>03:00</td>\n",
              "      <td>890</td>\n",
              "      <td>-3,2</td>\n",
              "      <td>1022</td>\n",
              "      <td>-3.2</td>\n",
              "      <td>1022.0</td>\n",
              "      <td>890.0</td>\n",
              "      <td>03:00:00</td>\n",
              "      <td>2019-01-12</td>\n",
              "    </tr>\n",
              "    <tr>\n",
              "      <th>3</th>\n",
              "      <td>01.12.2019</td>\n",
              "      <td>04:00</td>\n",
              "      <td>883</td>\n",
              "      <td>-3,4</td>\n",
              "      <td>1022</td>\n",
              "      <td>-3.4</td>\n",
              "      <td>1022.0</td>\n",
              "      <td>883.0</td>\n",
              "      <td>04:00:00</td>\n",
              "      <td>2019-01-12</td>\n",
              "    </tr>\n",
              "    <tr>\n",
              "      <th>4</th>\n",
              "      <td>01.12.2019</td>\n",
              "      <td>05:00</td>\n",
              "      <td>891</td>\n",
              "      <td>-3,6</td>\n",
              "      <td>1022</td>\n",
              "      <td>-3.6</td>\n",
              "      <td>1022.0</td>\n",
              "      <td>891.0</td>\n",
              "      <td>05:00:00</td>\n",
              "      <td>2019-01-12</td>\n",
              "    </tr>\n",
              "  </tbody>\n",
              "</table>\n",
              "</div>"
            ],
            "text/plain": [
              "        Datum   Zeit  ... Sekundenformat   DatumYDM\n",
              "0  01.12.2019  01:00  ...       01:00:00 2019-01-12\n",
              "1  01.12.2019  02:00  ...       02:00:00 2019-01-12\n",
              "2  01.12.2019  03:00  ...       03:00:00 2019-01-12\n",
              "3  01.12.2019  04:00  ...       04:00:00 2019-01-12\n",
              "4  01.12.2019  05:00  ...       05:00:00 2019-01-12\n",
              "\n",
              "[5 rows x 10 columns]"
            ]
          },
          "metadata": {
            "tags": []
          },
          "execution_count": 16
        }
      ]
    },
    {
      "cell_type": "code",
      "metadata": {
        "colab": {
          "base_uri": "https://localhost:8080/"
        },
        "id": "Zu05Nll3pmb_",
        "outputId": "3f6e312a-9bca-4070-d955-1c6252305eab"
      },
      "source": [
        "df.dtypes"
      ],
      "execution_count": null,
      "outputs": [
        {
          "output_type": "execute_result",
          "data": {
            "text/plain": [
              "Datum                                object\n",
              "Zeit                                 object\n",
              "Kohlendioxid (CO2)[mg/m³]            object\n",
              "Temperatur[°C]                       object\n",
              "Luftdruck[hPa]                       object\n",
              "Temperatur                          float64\n",
              "Luftdruck                           float64\n",
              "Kohlendioxid                        float64\n",
              "Sekundenformat                       object\n",
              "DatumYDM                     datetime64[ns]\n",
              "dtype: object"
            ]
          },
          "metadata": {
            "tags": []
          },
          "execution_count": 17
        }
      ]
    },
    {
      "cell_type": "markdown",
      "metadata": {
        "id": "aO-7xxm0pdnG"
      },
      "source": [
        "\r\n",
        "Wir informieren Pandas, dass die zu lesenden Werte nacheinander Angaben zum Tag, Monat, Jahr beinhalten. "
      ]
    },
    {
      "cell_type": "code",
      "metadata": {
        "id": "EOCo09uhpdut"
      },
      "source": [
        "df[\"DatumMDY\"] = df[\"DatumYDM\"].dt.strftime(\"%d-%m-%y\")"
      ],
      "execution_count": null,
      "outputs": []
    },
    {
      "cell_type": "markdown",
      "metadata": {
        "id": "w-ylqSKBpd1w"
      },
      "source": [
        "Wir wandeln Spalte Sekundenformat in 0 days 01:00:00 um. (zählt nur Stunden bis 24 und beginnt bei 0 Tage)"
      ]
    },
    {
      "cell_type": "code",
      "metadata": {
        "id": "hvjbG3pIpd7v"
      },
      "source": [
        "df['Stundenzaehler']=pd.to_timedelta(df.Sekundenformat)"
      ],
      "execution_count": null,
      "outputs": []
    },
    {
      "cell_type": "code",
      "metadata": {
        "colab": {
          "base_uri": "https://localhost:8080/",
          "height": 206
        },
        "id": "XUJVXyzry86A",
        "outputId": "413728d3-1561-4dae-fa98-c6f799022a04"
      },
      "source": [
        "df.head()"
      ],
      "execution_count": null,
      "outputs": [
        {
          "output_type": "execute_result",
          "data": {
            "text/html": [
              "<div>\n",
              "<style scoped>\n",
              "    .dataframe tbody tr th:only-of-type {\n",
              "        vertical-align: middle;\n",
              "    }\n",
              "\n",
              "    .dataframe tbody tr th {\n",
              "        vertical-align: top;\n",
              "    }\n",
              "\n",
              "    .dataframe thead th {\n",
              "        text-align: right;\n",
              "    }\n",
              "</style>\n",
              "<table border=\"1\" class=\"dataframe\">\n",
              "  <thead>\n",
              "    <tr style=\"text-align: right;\">\n",
              "      <th></th>\n",
              "      <th>Datum</th>\n",
              "      <th>Zeit</th>\n",
              "      <th>Kohlendioxid (CO2)[mg/m³]</th>\n",
              "      <th>Temperatur[°C]</th>\n",
              "      <th>Luftdruck[hPa]</th>\n",
              "      <th>Temperatur</th>\n",
              "      <th>Luftdruck</th>\n",
              "      <th>Kohlendioxid</th>\n",
              "      <th>Sekundenformat</th>\n",
              "      <th>DatumYDM</th>\n",
              "      <th>DatumMDY</th>\n",
              "      <th>Stundenzaehler</th>\n",
              "    </tr>\n",
              "  </thead>\n",
              "  <tbody>\n",
              "    <tr>\n",
              "      <th>0</th>\n",
              "      <td>01.12.2019</td>\n",
              "      <td>01:00</td>\n",
              "      <td>867</td>\n",
              "      <td>-3,5</td>\n",
              "      <td>1023</td>\n",
              "      <td>-3.5</td>\n",
              "      <td>1023.0</td>\n",
              "      <td>867.0</td>\n",
              "      <td>01:00:00</td>\n",
              "      <td>2019-01-12</td>\n",
              "      <td>12-01-19</td>\n",
              "      <td>0 days 01:00:00</td>\n",
              "    </tr>\n",
              "    <tr>\n",
              "      <th>1</th>\n",
              "      <td>01.12.2019</td>\n",
              "      <td>02:00</td>\n",
              "      <td>885</td>\n",
              "      <td>-3,6</td>\n",
              "      <td>1023</td>\n",
              "      <td>-3.6</td>\n",
              "      <td>1023.0</td>\n",
              "      <td>885.0</td>\n",
              "      <td>02:00:00</td>\n",
              "      <td>2019-01-12</td>\n",
              "      <td>12-01-19</td>\n",
              "      <td>0 days 02:00:00</td>\n",
              "    </tr>\n",
              "    <tr>\n",
              "      <th>2</th>\n",
              "      <td>01.12.2019</td>\n",
              "      <td>03:00</td>\n",
              "      <td>890</td>\n",
              "      <td>-3,2</td>\n",
              "      <td>1022</td>\n",
              "      <td>-3.2</td>\n",
              "      <td>1022.0</td>\n",
              "      <td>890.0</td>\n",
              "      <td>03:00:00</td>\n",
              "      <td>2019-01-12</td>\n",
              "      <td>12-01-19</td>\n",
              "      <td>0 days 03:00:00</td>\n",
              "    </tr>\n",
              "    <tr>\n",
              "      <th>3</th>\n",
              "      <td>01.12.2019</td>\n",
              "      <td>04:00</td>\n",
              "      <td>883</td>\n",
              "      <td>-3,4</td>\n",
              "      <td>1022</td>\n",
              "      <td>-3.4</td>\n",
              "      <td>1022.0</td>\n",
              "      <td>883.0</td>\n",
              "      <td>04:00:00</td>\n",
              "      <td>2019-01-12</td>\n",
              "      <td>12-01-19</td>\n",
              "      <td>0 days 04:00:00</td>\n",
              "    </tr>\n",
              "    <tr>\n",
              "      <th>4</th>\n",
              "      <td>01.12.2019</td>\n",
              "      <td>05:00</td>\n",
              "      <td>891</td>\n",
              "      <td>-3,6</td>\n",
              "      <td>1022</td>\n",
              "      <td>-3.6</td>\n",
              "      <td>1022.0</td>\n",
              "      <td>891.0</td>\n",
              "      <td>05:00:00</td>\n",
              "      <td>2019-01-12</td>\n",
              "      <td>12-01-19</td>\n",
              "      <td>0 days 05:00:00</td>\n",
              "    </tr>\n",
              "  </tbody>\n",
              "</table>\n",
              "</div>"
            ],
            "text/plain": [
              "        Datum   Zeit  ...  DatumMDY  Stundenzaehler\n",
              "0  01.12.2019  01:00  ...  12-01-19 0 days 01:00:00\n",
              "1  01.12.2019  02:00  ...  12-01-19 0 days 02:00:00\n",
              "2  01.12.2019  03:00  ...  12-01-19 0 days 03:00:00\n",
              "3  01.12.2019  04:00  ...  12-01-19 0 days 04:00:00\n",
              "4  01.12.2019  05:00  ...  12-01-19 0 days 05:00:00\n",
              "\n",
              "[5 rows x 12 columns]"
            ]
          },
          "metadata": {
            "tags": []
          },
          "execution_count": 21
        }
      ]
    },
    {
      "cell_type": "markdown",
      "metadata": {
        "id": "AfCudsREpeCk"
      },
      "source": [
        "Wir addieren zur Spalte DatumMDY die Spalte Stundenzaehler = 2019-12-01 01:00:00"
      ]
    },
    {
      "cell_type": "code",
      "metadata": {
        "id": "2YcugYIgpeJs"
      },
      "source": [
        "df['DatumStundenzaehler']=pd.to_datetime(df.DatumMDY) + pd.to_timedelta(df.Stundenzaehler)"
      ],
      "execution_count": null,
      "outputs": []
    },
    {
      "cell_type": "code",
      "metadata": {
        "colab": {
          "base_uri": "https://localhost:8080/",
          "height": 206
        },
        "id": "kT5w1oPnzLCV",
        "outputId": "3686f198-6f0f-4a48-eae7-d2bc566a6af3"
      },
      "source": [
        "df.head()"
      ],
      "execution_count": null,
      "outputs": [
        {
          "output_type": "execute_result",
          "data": {
            "text/html": [
              "<div>\n",
              "<style scoped>\n",
              "    .dataframe tbody tr th:only-of-type {\n",
              "        vertical-align: middle;\n",
              "    }\n",
              "\n",
              "    .dataframe tbody tr th {\n",
              "        vertical-align: top;\n",
              "    }\n",
              "\n",
              "    .dataframe thead th {\n",
              "        text-align: right;\n",
              "    }\n",
              "</style>\n",
              "<table border=\"1\" class=\"dataframe\">\n",
              "  <thead>\n",
              "    <tr style=\"text-align: right;\">\n",
              "      <th></th>\n",
              "      <th>Datum</th>\n",
              "      <th>Zeit</th>\n",
              "      <th>Kohlendioxid (CO2)[mg/m³]</th>\n",
              "      <th>Temperatur[°C]</th>\n",
              "      <th>Luftdruck[hPa]</th>\n",
              "      <th>Temperatur</th>\n",
              "      <th>Luftdruck</th>\n",
              "      <th>Kohlendioxid</th>\n",
              "      <th>Sekundenformat</th>\n",
              "      <th>DatumYDM</th>\n",
              "      <th>DatumMDY</th>\n",
              "      <th>Stundenzaehler</th>\n",
              "      <th>DatumStundenzaehler</th>\n",
              "    </tr>\n",
              "  </thead>\n",
              "  <tbody>\n",
              "    <tr>\n",
              "      <th>0</th>\n",
              "      <td>01.12.2019</td>\n",
              "      <td>01:00</td>\n",
              "      <td>867</td>\n",
              "      <td>-3,5</td>\n",
              "      <td>1023</td>\n",
              "      <td>-3.5</td>\n",
              "      <td>1023.0</td>\n",
              "      <td>867.0</td>\n",
              "      <td>01:00:00</td>\n",
              "      <td>2019-01-12</td>\n",
              "      <td>12-01-19</td>\n",
              "      <td>0 days 01:00:00</td>\n",
              "      <td>2019-12-01 01:00:00</td>\n",
              "    </tr>\n",
              "    <tr>\n",
              "      <th>1</th>\n",
              "      <td>01.12.2019</td>\n",
              "      <td>02:00</td>\n",
              "      <td>885</td>\n",
              "      <td>-3,6</td>\n",
              "      <td>1023</td>\n",
              "      <td>-3.6</td>\n",
              "      <td>1023.0</td>\n",
              "      <td>885.0</td>\n",
              "      <td>02:00:00</td>\n",
              "      <td>2019-01-12</td>\n",
              "      <td>12-01-19</td>\n",
              "      <td>0 days 02:00:00</td>\n",
              "      <td>2019-12-01 02:00:00</td>\n",
              "    </tr>\n",
              "    <tr>\n",
              "      <th>2</th>\n",
              "      <td>01.12.2019</td>\n",
              "      <td>03:00</td>\n",
              "      <td>890</td>\n",
              "      <td>-3,2</td>\n",
              "      <td>1022</td>\n",
              "      <td>-3.2</td>\n",
              "      <td>1022.0</td>\n",
              "      <td>890.0</td>\n",
              "      <td>03:00:00</td>\n",
              "      <td>2019-01-12</td>\n",
              "      <td>12-01-19</td>\n",
              "      <td>0 days 03:00:00</td>\n",
              "      <td>2019-12-01 03:00:00</td>\n",
              "    </tr>\n",
              "    <tr>\n",
              "      <th>3</th>\n",
              "      <td>01.12.2019</td>\n",
              "      <td>04:00</td>\n",
              "      <td>883</td>\n",
              "      <td>-3,4</td>\n",
              "      <td>1022</td>\n",
              "      <td>-3.4</td>\n",
              "      <td>1022.0</td>\n",
              "      <td>883.0</td>\n",
              "      <td>04:00:00</td>\n",
              "      <td>2019-01-12</td>\n",
              "      <td>12-01-19</td>\n",
              "      <td>0 days 04:00:00</td>\n",
              "      <td>2019-12-01 04:00:00</td>\n",
              "    </tr>\n",
              "    <tr>\n",
              "      <th>4</th>\n",
              "      <td>01.12.2019</td>\n",
              "      <td>05:00</td>\n",
              "      <td>891</td>\n",
              "      <td>-3,6</td>\n",
              "      <td>1022</td>\n",
              "      <td>-3.6</td>\n",
              "      <td>1022.0</td>\n",
              "      <td>891.0</td>\n",
              "      <td>05:00:00</td>\n",
              "      <td>2019-01-12</td>\n",
              "      <td>12-01-19</td>\n",
              "      <td>0 days 05:00:00</td>\n",
              "      <td>2019-12-01 05:00:00</td>\n",
              "    </tr>\n",
              "  </tbody>\n",
              "</table>\n",
              "</div>"
            ],
            "text/plain": [
              "        Datum   Zeit  ...  Stundenzaehler DatumStundenzaehler\n",
              "0  01.12.2019  01:00  ... 0 days 01:00:00 2019-12-01 01:00:00\n",
              "1  01.12.2019  02:00  ... 0 days 02:00:00 2019-12-01 02:00:00\n",
              "2  01.12.2019  03:00  ... 0 days 03:00:00 2019-12-01 03:00:00\n",
              "3  01.12.2019  04:00  ... 0 days 04:00:00 2019-12-01 04:00:00\n",
              "4  01.12.2019  05:00  ... 0 days 05:00:00 2019-12-01 05:00:00\n",
              "\n",
              "[5 rows x 13 columns]"
            ]
          },
          "metadata": {
            "tags": []
          },
          "execution_count": 23
        }
      ]
    },
    {
      "cell_type": "markdown",
      "metadata": {
        "id": "p9pOD8whzLJa"
      },
      "source": [
        "\r\n",
        "Das Datumsformat wird in 01-12-2019 01:00 umgwandelt"
      ]
    },
    {
      "cell_type": "code",
      "metadata": {
        "id": "FNk33TCizLOH"
      },
      "source": [
        "df[\"DatumFinal\"] = df[\"DatumStundenzaehler\"].dt.strftime(\"%d-%m-%y %H:%M\")"
      ],
      "execution_count": null,
      "outputs": []
    },
    {
      "cell_type": "code",
      "metadata": {
        "colab": {
          "base_uri": "https://localhost:8080/",
          "height": 206
        },
        "id": "u2kPCUWdp6AE",
        "outputId": "26f3d491-6caa-4655-868e-02ed308471e9"
      },
      "source": [
        "df.head()"
      ],
      "execution_count": null,
      "outputs": [
        {
          "output_type": "execute_result",
          "data": {
            "text/html": [
              "<div>\n",
              "<style scoped>\n",
              "    .dataframe tbody tr th:only-of-type {\n",
              "        vertical-align: middle;\n",
              "    }\n",
              "\n",
              "    .dataframe tbody tr th {\n",
              "        vertical-align: top;\n",
              "    }\n",
              "\n",
              "    .dataframe thead th {\n",
              "        text-align: right;\n",
              "    }\n",
              "</style>\n",
              "<table border=\"1\" class=\"dataframe\">\n",
              "  <thead>\n",
              "    <tr style=\"text-align: right;\">\n",
              "      <th></th>\n",
              "      <th>Datum</th>\n",
              "      <th>Zeit</th>\n",
              "      <th>Kohlendioxid (CO2)[mg/m³]</th>\n",
              "      <th>Temperatur[°C]</th>\n",
              "      <th>Luftdruck[hPa]</th>\n",
              "      <th>Temperatur</th>\n",
              "      <th>Luftdruck</th>\n",
              "      <th>Kohlendioxid</th>\n",
              "      <th>Sekundenformat</th>\n",
              "      <th>DatumYDM</th>\n",
              "      <th>DatumMDY</th>\n",
              "      <th>Stundenzaehler</th>\n",
              "      <th>DatumStundenzaehler</th>\n",
              "      <th>DatumFinal</th>\n",
              "    </tr>\n",
              "  </thead>\n",
              "  <tbody>\n",
              "    <tr>\n",
              "      <th>0</th>\n",
              "      <td>01.12.2019</td>\n",
              "      <td>01:00</td>\n",
              "      <td>867</td>\n",
              "      <td>-3,5</td>\n",
              "      <td>1023</td>\n",
              "      <td>-3.5</td>\n",
              "      <td>1023.0</td>\n",
              "      <td>867.0</td>\n",
              "      <td>01:00:00</td>\n",
              "      <td>2019-01-12</td>\n",
              "      <td>12-01-19</td>\n",
              "      <td>0 days 01:00:00</td>\n",
              "      <td>2019-12-01 01:00:00</td>\n",
              "      <td>01-12-19 01:00</td>\n",
              "    </tr>\n",
              "    <tr>\n",
              "      <th>1</th>\n",
              "      <td>01.12.2019</td>\n",
              "      <td>02:00</td>\n",
              "      <td>885</td>\n",
              "      <td>-3,6</td>\n",
              "      <td>1023</td>\n",
              "      <td>-3.6</td>\n",
              "      <td>1023.0</td>\n",
              "      <td>885.0</td>\n",
              "      <td>02:00:00</td>\n",
              "      <td>2019-01-12</td>\n",
              "      <td>12-01-19</td>\n",
              "      <td>0 days 02:00:00</td>\n",
              "      <td>2019-12-01 02:00:00</td>\n",
              "      <td>01-12-19 02:00</td>\n",
              "    </tr>\n",
              "    <tr>\n",
              "      <th>2</th>\n",
              "      <td>01.12.2019</td>\n",
              "      <td>03:00</td>\n",
              "      <td>890</td>\n",
              "      <td>-3,2</td>\n",
              "      <td>1022</td>\n",
              "      <td>-3.2</td>\n",
              "      <td>1022.0</td>\n",
              "      <td>890.0</td>\n",
              "      <td>03:00:00</td>\n",
              "      <td>2019-01-12</td>\n",
              "      <td>12-01-19</td>\n",
              "      <td>0 days 03:00:00</td>\n",
              "      <td>2019-12-01 03:00:00</td>\n",
              "      <td>01-12-19 03:00</td>\n",
              "    </tr>\n",
              "    <tr>\n",
              "      <th>3</th>\n",
              "      <td>01.12.2019</td>\n",
              "      <td>04:00</td>\n",
              "      <td>883</td>\n",
              "      <td>-3,4</td>\n",
              "      <td>1022</td>\n",
              "      <td>-3.4</td>\n",
              "      <td>1022.0</td>\n",
              "      <td>883.0</td>\n",
              "      <td>04:00:00</td>\n",
              "      <td>2019-01-12</td>\n",
              "      <td>12-01-19</td>\n",
              "      <td>0 days 04:00:00</td>\n",
              "      <td>2019-12-01 04:00:00</td>\n",
              "      <td>01-12-19 04:00</td>\n",
              "    </tr>\n",
              "    <tr>\n",
              "      <th>4</th>\n",
              "      <td>01.12.2019</td>\n",
              "      <td>05:00</td>\n",
              "      <td>891</td>\n",
              "      <td>-3,6</td>\n",
              "      <td>1022</td>\n",
              "      <td>-3.6</td>\n",
              "      <td>1022.0</td>\n",
              "      <td>891.0</td>\n",
              "      <td>05:00:00</td>\n",
              "      <td>2019-01-12</td>\n",
              "      <td>12-01-19</td>\n",
              "      <td>0 days 05:00:00</td>\n",
              "      <td>2019-12-01 05:00:00</td>\n",
              "      <td>01-12-19 05:00</td>\n",
              "    </tr>\n",
              "  </tbody>\n",
              "</table>\n",
              "</div>"
            ],
            "text/plain": [
              "        Datum   Zeit  ... DatumStundenzaehler      DatumFinal\n",
              "0  01.12.2019  01:00  ... 2019-12-01 01:00:00  01-12-19 01:00\n",
              "1  01.12.2019  02:00  ... 2019-12-01 02:00:00  01-12-19 02:00\n",
              "2  01.12.2019  03:00  ... 2019-12-01 03:00:00  01-12-19 03:00\n",
              "3  01.12.2019  04:00  ... 2019-12-01 04:00:00  01-12-19 04:00\n",
              "4  01.12.2019  05:00  ... 2019-12-01 05:00:00  01-12-19 05:00\n",
              "\n",
              "[5 rows x 14 columns]"
            ]
          },
          "metadata": {
            "tags": []
          },
          "execution_count": 25
        }
      ]
    },
    {
      "cell_type": "markdown",
      "metadata": {
        "id": "krgEI2dWzLTT"
      },
      "source": [
        "Wir löschen die folgenden Spalten:"
      ]
    },
    {
      "cell_type": "code",
      "metadata": {
        "id": "bKU-z8Y8zLYd"
      },
      "source": [
        "df=df.drop(columns=['Datum', 'Zeit','Sekundenformat','Kohlendioxid (CO2)[mg/m³]','Temperatur[°C]','Luftdruck[hPa]','DatumYDM','DatumMDY','Stundenzaehler','DatumStundenzaehler'])"
      ],
      "execution_count": null,
      "outputs": []
    },
    {
      "cell_type": "code",
      "metadata": {
        "colab": {
          "base_uri": "https://localhost:8080/",
          "height": 206
        },
        "id": "3XoYtOfBu0zE",
        "outputId": "bffb6e84-9b5c-4c3e-bbec-1aa5b457df48"
      },
      "source": [
        "df.head()"
      ],
      "execution_count": null,
      "outputs": [
        {
          "output_type": "execute_result",
          "data": {
            "text/html": [
              "<div>\n",
              "<style scoped>\n",
              "    .dataframe tbody tr th:only-of-type {\n",
              "        vertical-align: middle;\n",
              "    }\n",
              "\n",
              "    .dataframe tbody tr th {\n",
              "        vertical-align: top;\n",
              "    }\n",
              "\n",
              "    .dataframe thead th {\n",
              "        text-align: right;\n",
              "    }\n",
              "</style>\n",
              "<table border=\"1\" class=\"dataframe\">\n",
              "  <thead>\n",
              "    <tr style=\"text-align: right;\">\n",
              "      <th></th>\n",
              "      <th>Temperatur</th>\n",
              "      <th>Luftdruck</th>\n",
              "      <th>Kohlendioxid</th>\n",
              "      <th>DatumFinal</th>\n",
              "    </tr>\n",
              "  </thead>\n",
              "  <tbody>\n",
              "    <tr>\n",
              "      <th>0</th>\n",
              "      <td>-3.5</td>\n",
              "      <td>1023.0</td>\n",
              "      <td>867.0</td>\n",
              "      <td>01-12-19 01:00</td>\n",
              "    </tr>\n",
              "    <tr>\n",
              "      <th>1</th>\n",
              "      <td>-3.6</td>\n",
              "      <td>1023.0</td>\n",
              "      <td>885.0</td>\n",
              "      <td>01-12-19 02:00</td>\n",
              "    </tr>\n",
              "    <tr>\n",
              "      <th>2</th>\n",
              "      <td>-3.2</td>\n",
              "      <td>1022.0</td>\n",
              "      <td>890.0</td>\n",
              "      <td>01-12-19 03:00</td>\n",
              "    </tr>\n",
              "    <tr>\n",
              "      <th>3</th>\n",
              "      <td>-3.4</td>\n",
              "      <td>1022.0</td>\n",
              "      <td>883.0</td>\n",
              "      <td>01-12-19 04:00</td>\n",
              "    </tr>\n",
              "    <tr>\n",
              "      <th>4</th>\n",
              "      <td>-3.6</td>\n",
              "      <td>1022.0</td>\n",
              "      <td>891.0</td>\n",
              "      <td>01-12-19 05:00</td>\n",
              "    </tr>\n",
              "  </tbody>\n",
              "</table>\n",
              "</div>"
            ],
            "text/plain": [
              "   Temperatur  Luftdruck  Kohlendioxid      DatumFinal\n",
              "0        -3.5     1023.0         867.0  01-12-19 01:00\n",
              "1        -3.6     1023.0         885.0  01-12-19 02:00\n",
              "2        -3.2     1022.0         890.0  01-12-19 03:00\n",
              "3        -3.4     1022.0         883.0  01-12-19 04:00\n",
              "4        -3.6     1022.0         891.0  01-12-19 05:00"
            ]
          },
          "metadata": {
            "tags": []
          },
          "execution_count": 28
        }
      ]
    },
    {
      "cell_type": "markdown",
      "metadata": {
        "id": "5V5xLyfmzLd1"
      },
      "source": [
        "Wir nennen Spalte DatumFinal in Datum um"
      ]
    },
    {
      "cell_type": "code",
      "metadata": {
        "id": "zmbsYdPqzLix"
      },
      "source": [
        "df=df.rename(columns={'DatumFinal': 'Datum'})"
      ],
      "execution_count": null,
      "outputs": []
    },
    {
      "cell_type": "code",
      "metadata": {
        "colab": {
          "base_uri": "https://localhost:8080/",
          "height": 206
        },
        "id": "v2hY0KmnwXyP",
        "outputId": "a8c7a073-94ef-4f62-d3ce-6c9b9fd86271"
      },
      "source": [
        "df.head()"
      ],
      "execution_count": null,
      "outputs": [
        {
          "output_type": "execute_result",
          "data": {
            "text/html": [
              "<div>\n",
              "<style scoped>\n",
              "    .dataframe tbody tr th:only-of-type {\n",
              "        vertical-align: middle;\n",
              "    }\n",
              "\n",
              "    .dataframe tbody tr th {\n",
              "        vertical-align: top;\n",
              "    }\n",
              "\n",
              "    .dataframe thead th {\n",
              "        text-align: right;\n",
              "    }\n",
              "</style>\n",
              "<table border=\"1\" class=\"dataframe\">\n",
              "  <thead>\n",
              "    <tr style=\"text-align: right;\">\n",
              "      <th></th>\n",
              "      <th>Temperatur</th>\n",
              "      <th>Luftdruck</th>\n",
              "      <th>Kohlendioxid</th>\n",
              "      <th>Datum</th>\n",
              "    </tr>\n",
              "  </thead>\n",
              "  <tbody>\n",
              "    <tr>\n",
              "      <th>0</th>\n",
              "      <td>-3.5</td>\n",
              "      <td>1023.0</td>\n",
              "      <td>867.0</td>\n",
              "      <td>01-12-19 01:00</td>\n",
              "    </tr>\n",
              "    <tr>\n",
              "      <th>1</th>\n",
              "      <td>-3.6</td>\n",
              "      <td>1023.0</td>\n",
              "      <td>885.0</td>\n",
              "      <td>01-12-19 02:00</td>\n",
              "    </tr>\n",
              "    <tr>\n",
              "      <th>2</th>\n",
              "      <td>-3.2</td>\n",
              "      <td>1022.0</td>\n",
              "      <td>890.0</td>\n",
              "      <td>01-12-19 03:00</td>\n",
              "    </tr>\n",
              "    <tr>\n",
              "      <th>3</th>\n",
              "      <td>-3.4</td>\n",
              "      <td>1022.0</td>\n",
              "      <td>883.0</td>\n",
              "      <td>01-12-19 04:00</td>\n",
              "    </tr>\n",
              "    <tr>\n",
              "      <th>4</th>\n",
              "      <td>-3.6</td>\n",
              "      <td>1022.0</td>\n",
              "      <td>891.0</td>\n",
              "      <td>01-12-19 05:00</td>\n",
              "    </tr>\n",
              "  </tbody>\n",
              "</table>\n",
              "</div>"
            ],
            "text/plain": [
              "   Temperatur  Luftdruck  Kohlendioxid           Datum\n",
              "0        -3.5     1023.0         867.0  01-12-19 01:00\n",
              "1        -3.6     1023.0         885.0  01-12-19 02:00\n",
              "2        -3.2     1022.0         890.0  01-12-19 03:00\n",
              "3        -3.4     1022.0         883.0  01-12-19 04:00\n",
              "4        -3.6     1022.0         891.0  01-12-19 05:00"
            ]
          },
          "metadata": {
            "tags": []
          },
          "execution_count": 34
        }
      ]
    },
    {
      "cell_type": "markdown",
      "metadata": {
        "id": "S0bXBlyPxCNk"
      },
      "source": [
        "Wir setzen Spalte Datum als Index, dadurch können wir die  Vorzüge der Datumsklasse nutzen.\r\n"
      ]
    },
    {
      "cell_type": "code",
      "metadata": {
        "id": "ckq925F7xCWc"
      },
      "source": [
        "df=df.set_index('Datum')"
      ],
      "execution_count": null,
      "outputs": []
    },
    {
      "cell_type": "code",
      "metadata": {
        "colab": {
          "base_uri": "https://localhost:8080/",
          "height": 238
        },
        "id": "5vPh_gpLxNK0",
        "outputId": "f2a16926-c3df-4120-ccdf-c0b2c6174a5a"
      },
      "source": [
        "df.head()"
      ],
      "execution_count": null,
      "outputs": [
        {
          "output_type": "execute_result",
          "data": {
            "text/html": [
              "<div>\n",
              "<style scoped>\n",
              "    .dataframe tbody tr th:only-of-type {\n",
              "        vertical-align: middle;\n",
              "    }\n",
              "\n",
              "    .dataframe tbody tr th {\n",
              "        vertical-align: top;\n",
              "    }\n",
              "\n",
              "    .dataframe thead th {\n",
              "        text-align: right;\n",
              "    }\n",
              "</style>\n",
              "<table border=\"1\" class=\"dataframe\">\n",
              "  <thead>\n",
              "    <tr style=\"text-align: right;\">\n",
              "      <th></th>\n",
              "      <th>Temperatur</th>\n",
              "      <th>Luftdruck</th>\n",
              "      <th>Kohlendioxid</th>\n",
              "    </tr>\n",
              "    <tr>\n",
              "      <th>Datum</th>\n",
              "      <th></th>\n",
              "      <th></th>\n",
              "      <th></th>\n",
              "    </tr>\n",
              "  </thead>\n",
              "  <tbody>\n",
              "    <tr>\n",
              "      <th>01-12-19 01:00</th>\n",
              "      <td>-3.5</td>\n",
              "      <td>1023.0</td>\n",
              "      <td>867.0</td>\n",
              "    </tr>\n",
              "    <tr>\n",
              "      <th>01-12-19 02:00</th>\n",
              "      <td>-3.6</td>\n",
              "      <td>1023.0</td>\n",
              "      <td>885.0</td>\n",
              "    </tr>\n",
              "    <tr>\n",
              "      <th>01-12-19 03:00</th>\n",
              "      <td>-3.2</td>\n",
              "      <td>1022.0</td>\n",
              "      <td>890.0</td>\n",
              "    </tr>\n",
              "    <tr>\n",
              "      <th>01-12-19 04:00</th>\n",
              "      <td>-3.4</td>\n",
              "      <td>1022.0</td>\n",
              "      <td>883.0</td>\n",
              "    </tr>\n",
              "    <tr>\n",
              "      <th>01-12-19 05:00</th>\n",
              "      <td>-3.6</td>\n",
              "      <td>1022.0</td>\n",
              "      <td>891.0</td>\n",
              "    </tr>\n",
              "  </tbody>\n",
              "</table>\n",
              "</div>"
            ],
            "text/plain": [
              "                Temperatur  Luftdruck  Kohlendioxid\n",
              "Datum                                              \n",
              "01-12-19 01:00        -3.5     1023.0         867.0\n",
              "01-12-19 02:00        -3.6     1023.0         885.0\n",
              "01-12-19 03:00        -3.2     1022.0         890.0\n",
              "01-12-19 04:00        -3.4     1022.0         883.0\n",
              "01-12-19 05:00        -3.6     1022.0         891.0"
            ]
          },
          "metadata": {
            "tags": []
          },
          "execution_count": 37
        }
      ]
    },
    {
      "cell_type": "markdown",
      "metadata": {
        "id": "00hBVgl7xTvz"
      },
      "source": [
        "Das Ergebnis: Wir haben das Datum als nutzbares  Datumsformat umgewandelt. \r\n",
        "Die Temperatur, Luftdruck und Kohlendioxid sind im Zahlenformat und NaN Werte für fehlende Daten."
      ]
    },
    {
      "cell_type": "code",
      "metadata": {
        "colab": {
          "base_uri": "https://localhost:8080/",
          "height": 455
        },
        "id": "fCMNgzVFxCdN",
        "outputId": "6454ee63-358e-4a27-aa91-caa6046cd913"
      },
      "source": [
        "df"
      ],
      "execution_count": null,
      "outputs": [
        {
          "output_type": "execute_result",
          "data": {
            "text/html": [
              "<div>\n",
              "<style scoped>\n",
              "    .dataframe tbody tr th:only-of-type {\n",
              "        vertical-align: middle;\n",
              "    }\n",
              "\n",
              "    .dataframe tbody tr th {\n",
              "        vertical-align: top;\n",
              "    }\n",
              "\n",
              "    .dataframe thead th {\n",
              "        text-align: right;\n",
              "    }\n",
              "</style>\n",
              "<table border=\"1\" class=\"dataframe\">\n",
              "  <thead>\n",
              "    <tr style=\"text-align: right;\">\n",
              "      <th></th>\n",
              "      <th>Temperatur</th>\n",
              "      <th>Luftdruck</th>\n",
              "      <th>Kohlendioxid</th>\n",
              "    </tr>\n",
              "    <tr>\n",
              "      <th>Datum</th>\n",
              "      <th></th>\n",
              "      <th></th>\n",
              "      <th></th>\n",
              "    </tr>\n",
              "  </thead>\n",
              "  <tbody>\n",
              "    <tr>\n",
              "      <th>01-12-19 01:00</th>\n",
              "      <td>-3.5</td>\n",
              "      <td>1023.0</td>\n",
              "      <td>867.0</td>\n",
              "    </tr>\n",
              "    <tr>\n",
              "      <th>01-12-19 02:00</th>\n",
              "      <td>-3.6</td>\n",
              "      <td>1023.0</td>\n",
              "      <td>885.0</td>\n",
              "    </tr>\n",
              "    <tr>\n",
              "      <th>01-12-19 03:00</th>\n",
              "      <td>-3.2</td>\n",
              "      <td>1022.0</td>\n",
              "      <td>890.0</td>\n",
              "    </tr>\n",
              "    <tr>\n",
              "      <th>01-12-19 04:00</th>\n",
              "      <td>-3.4</td>\n",
              "      <td>1022.0</td>\n",
              "      <td>883.0</td>\n",
              "    </tr>\n",
              "    <tr>\n",
              "      <th>01-12-19 05:00</th>\n",
              "      <td>-3.6</td>\n",
              "      <td>1022.0</td>\n",
              "      <td>891.0</td>\n",
              "    </tr>\n",
              "    <tr>\n",
              "      <th>...</th>\n",
              "      <td>...</td>\n",
              "      <td>...</td>\n",
              "      <td>...</td>\n",
              "    </tr>\n",
              "    <tr>\n",
              "      <th>21-05-20 20:00</th>\n",
              "      <td>NaN</td>\n",
              "      <td>NaN</td>\n",
              "      <td>NaN</td>\n",
              "    </tr>\n",
              "    <tr>\n",
              "      <th>21-05-20 21:00</th>\n",
              "      <td>NaN</td>\n",
              "      <td>NaN</td>\n",
              "      <td>NaN</td>\n",
              "    </tr>\n",
              "    <tr>\n",
              "      <th>21-05-20 22:00</th>\n",
              "      <td>NaN</td>\n",
              "      <td>NaN</td>\n",
              "      <td>NaN</td>\n",
              "    </tr>\n",
              "    <tr>\n",
              "      <th>21-05-20 23:00</th>\n",
              "      <td>NaN</td>\n",
              "      <td>NaN</td>\n",
              "      <td>NaN</td>\n",
              "    </tr>\n",
              "    <tr>\n",
              "      <th>22-05-20 00:00</th>\n",
              "      <td>NaN</td>\n",
              "      <td>NaN</td>\n",
              "      <td>NaN</td>\n",
              "    </tr>\n",
              "  </tbody>\n",
              "</table>\n",
              "<p>4152 rows × 3 columns</p>\n",
              "</div>"
            ],
            "text/plain": [
              "                Temperatur  Luftdruck  Kohlendioxid\n",
              "Datum                                              \n",
              "01-12-19 01:00        -3.5     1023.0         867.0\n",
              "01-12-19 02:00        -3.6     1023.0         885.0\n",
              "01-12-19 03:00        -3.2     1022.0         890.0\n",
              "01-12-19 04:00        -3.4     1022.0         883.0\n",
              "01-12-19 05:00        -3.6     1022.0         891.0\n",
              "...                    ...        ...           ...\n",
              "21-05-20 20:00         NaN        NaN           NaN\n",
              "21-05-20 21:00         NaN        NaN           NaN\n",
              "21-05-20 22:00         NaN        NaN           NaN\n",
              "21-05-20 23:00         NaN        NaN           NaN\n",
              "22-05-20 00:00         NaN        NaN           NaN\n",
              "\n",
              "[4152 rows x 3 columns]"
            ]
          },
          "metadata": {
            "tags": []
          },
          "execution_count": 38
        }
      ]
    },
    {
      "cell_type": "code",
      "metadata": {
        "id": "zqxFsa8g2m2t",
        "colab": {
          "base_uri": "https://localhost:8080/"
        },
        "outputId": "56777838-d24b-4b23-a0f7-9a7913fd9bd0"
      },
      "source": [
        " df.dtypes"
      ],
      "execution_count": null,
      "outputs": [
        {
          "output_type": "execute_result",
          "data": {
            "text/plain": [
              "Temperatur      float64\n",
              "Luftdruck       float64\n",
              "Kohlendioxid    float64\n",
              "dtype: object"
            ]
          },
          "metadata": {
            "tags": []
          },
          "execution_count": 39
        }
      ]
    }
  ]
}